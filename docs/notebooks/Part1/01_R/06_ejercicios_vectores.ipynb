{
 "cells": [
  {
   "cell_type": "markdown",
   "source": [
    "### Ejercicios con vectores\n",
    "\n",
    "\n",
    "1. Cargar los datos contenidos en crimenUSA.txt\n",
    "2. ¿Cuántos valores tiene? Muestra por pantalla los 5 primeros.\n",
    "3. Ahora muestra los 5 últimos.\n",
    "4. ¿Cuál es el valor medio de este vector? ¿Y su desviación estándar?\n",
    "5. ¿Cuál es el máximo valor en estos datos? ¿Se repite alguna vez? ¿Cuántas?\n",
    "6. ¿Qué porcentaje de estados tienen más de 4810 crímenes?\n",
    "7. Ejecuta la sentencia que tienes a continuación, esta descargará un vector con los nombres de los estados de USA en la variable `states`. Verifica que se ha cargado correctamente mostrando su contenido en la consola.\n",
    "    ```R\n",
    "   states = scan(\"https://iamattila.com/wp-content/uploads/2021/07/usa-state-codes-abbreviations-names.csv\", what=character(), sep=\"\\n\", skip = 1)\n",
    "   ```\n",
    "8. Crea un nuevo vector que contenga los nombres de los estados con más crímenes que la media. Muestralo en la consola\n",
    "9. ¿Cuál es el estado con menor criminalidad?\n",
    "\n"
   ],
   "metadata": {
    "collapsed": false,
    "pycharm": {
     "name": "#%% md\n"
    }
   }
  }
 ],
 "metadata": {
  "kernelspec": {
   "display_name": "Python 3",
   "language": "python",
   "name": "python3"
  },
  "language_info": {
   "codemirror_mode": {
    "name": "ipython",
    "version": 2
   },
   "file_extension": ".py",
   "mimetype": "text/x-python",
   "name": "python",
   "nbconvert_exporter": "python",
   "pygments_lexer": "ipython2",
   "version": "2.7.6"
  }
 },
 "nbformat": 4,
 "nbformat_minor": 0
}