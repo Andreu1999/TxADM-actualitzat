{
 "cells": [
  {
   "cell_type": "markdown",
   "source": [
    "# R Overview"
   ],
   "metadata": {
    "collapsed": false,
    "pycharm": {
     "name": "#%% md\n"
    }
   }
  },
  {
   "cell_type": "markdown",
   "source": [
    "**R** es un entorno de programación para el análisis estadístico y gráfico de datos muy usado en la academia con una gran base de usuarios. Su uso tiene muchas ventajas. Para empezar, es software libre. La elección de software libre es, en general, acertada por varios motivos: por un lado, transmite valores socialmente positivos, como por ejemplo la libertad individual, el conocimiento compartido, la solidaridad y la cooperación; por otro, nos aproxima al método científico, porque permite el examen y mejora del código desarrollado por otros usuarios y la reproducibilidad de los resultados obtenidos; finalmente, pero no menos importante desde un punto de vista práctico, podemos adquirir de manera legal y gratuita copias del programa, sin necesidad de licencias personales o académicas.\n",
    "\n",
    "Aparte de su faceta de software libre, R tiene algunas ventajas específicas: por ejemplo, su sintaxis básica es sencilla e intuitiva, con la que es muy fácil familiarizarse, lo que se traduce en un aprendizaje rápido y cómodo; además, tiene una enorme comunidad de usuarios, estructurada alrededor de la Comprehensive R Archive Network (CRAN) que desarrolla cada día nuevos paquetes que extienden sus funcionalidades y cubren casi todas las necesidades computacionales y estadísticas de un científico, ingeniero o analista de datos.\n"
   ],
   "metadata": {
    "collapsed": false,
    "pycharm": {
     "name": "#%% md\n"
    }
   }
  },
  {
   "cell_type": "markdown",
   "source": [
    "## Instalación\n",
    "\n",
    "Instalar **R** es muy sencillo, pero dependiendo del Sistema Operativo que tengamos deberemos realizar distintos pasos.\n",
    "\n",
    "Los pasos a realizar en Windows o Mac OS X para instalar su última versión son los siguientes. En primer lugar accederemos a la página web de la CRAN: [https://cran.r-project.org/](https://cran.r-project.org/) y descargaremos la versión correspondiente a nuestro sistema operativo:\n",
    "\n",
    "- Usuarios de **Windows**: entrad en el enlace _base_, descargad **R** y seguid las instrucciones de instalación del documento _Install R for the first time_ que encontraréis en esa misma página.\n",
    "- Usuarios de de **Mac OS X**: descargad el fichero .pkg correspondiente y, una vez descargado, abridlo y seguid las instrucciones del Asistente de Instalación.\n",
    "- Usuarios de **Ubuntu o Debian**, para instalar la última versión de R basta que ejecutéis en una terminal, estando conectados a Internet, la siguiente instrucción: `sudo apt install r-base`.\n",
    "\n",
    "Una vez instalado **R** nos tocará instalar **RStudio**, un entorno de desarrollo integrado que usaremos como interfaz gráfica  de **R**. Está disponible para todos los sistemas operativos. Este entorno dispone de un amplio conjunto de herramientas que facilitan el trabajo con este lenguaje. Para instalarlo, se ha de descargar la versión __RStudio Desktop__ desde el siguiente enlace: [https://www.rstudio.com/products/rstudio/download/](https://www.rstudio.com/products/rstudio/download/).\n",
    "\n",
    "Conviene recordar que **RStudio** no es **R**, ni tan solo lo contiene: hay que instalar ambos programas. De hecho, las instalaciones de ambos son independientes una de la otra, de manera que cuando se actualiza uno de estos programas, no se modifica el otro."
   ],
   "metadata": {
    "collapsed": false,
    "pycharm": {
     "name": "#%% md\n"
    }
   }
  }
 ],
 "metadata": {
  "kernelspec": {
   "display_name": "Python 3",
   "language": "python",
   "name": "python3"
  },
  "language_info": {
   "codemirror_mode": {
    "name": "ipython",
    "version": 2
   },
   "file_extension": ".py",
   "mimetype": "text/x-python",
   "name": "python",
   "nbconvert_exporter": "python",
   "pygments_lexer": "ipython2",
   "version": "2.7.6"
  }
 },
 "nbformat": 4,
 "nbformat_minor": 0
}