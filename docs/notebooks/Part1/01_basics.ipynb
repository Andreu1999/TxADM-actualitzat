{
 "cells": [
  {
   "cell_type": "markdown",
   "metadata": {
    "pycharm": {
     "name": "#%% md\n"
    }
   },
   "source": [
    "# Lo más básico\n",
    "\n",
    "## Conceptos\n",
    "\n",
    "Lenguaje\n",
    "\n",
    "Programa\n",
    "\n",
    "Entorno de desarollo\n",
    "\n",
    "\n",
    "\n",
    "\n",
    "## R vs Python\n",
    "\n",
    "\n",
    "\n",
    "\n",
    "## Datos\n",
    "\n"
   ]
  }
 ],
 "metadata": {
  "kernelspec": {
   "display_name": "Python 3.9.7 64-bit ('3.9.7')",
   "language": "python",
   "name": "python3"
  },
  "language_info": {
   "name": "python",
   "version": "3.9.7"
  },
  "orig_nbformat": 4,
  "vscode": {
   "interpreter": {
    "hash": "1dd6de46b7c7be538353ccdeaa948031a5b4d43665739a26f55ca28b247c53cc"
   }
  }
 },
 "nbformat": 4,
 "nbformat_minor": 2
}