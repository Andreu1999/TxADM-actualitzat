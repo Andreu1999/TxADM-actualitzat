{
 "cells": [
  {
   "cell_type": "markdown",
   "metadata": {
    "pycharm": {
     "name": "#%% md\n"
    }
   },
   "source": [
    "# Hello World!\n",
    "\n",
    "Los dos conceptos que definen esta asignatura son: Datos y Tecnología. Veamos\n",
    "\n",
    "## Datos\n",
    "\n",
    "La ciencia de datos es un campo de estudio y práctica que se centra en obtener información de los datos. Mediante el uso de técnicas programación, conocimiento estadístico y técnicas de aprendizaje automático podremos tratar \"grandes\" conjuntos de datos en busca de patrones que puedan usarse para analizar el pasado o incluso predecir el futuro.\n",
    "\n",
    "Las tareas que están relacionadas con el análisis de datos son:\n",
    "\n",
    "- **Capturar datos:** extraer los datos de la base de datos de una empresa, extraerlos de un sitio web, acceder a una API, etc.\n",
    "- **Administrar datos::** almacenar correctamente los datos, y casi siempre implicará limpiar los datos.\n",
    "- **Análisis exploratorio:** realizar diferentes análisis y visualizar los datos de varias maneras para buscar patrones, preguntas y oportunidades para un estudio más profundo.\n",
    "- **Análisis final:** profundizar en los datos para responder preguntas comerciales específicas y ajustar modelos predictivos para obtener los resultados más precisos.\n",
    "- **Informes:** presentar los resultados del análisis, lo que podría incluir escribir un informe, producir visualizaciones y hacer recomendaciones basadas en los resultados del análisis. La generación de informes también puede significar conectar los resultados del análisis en un producto de datos o visualizador para que otros miembros del equipo o clientes puedan acceder fácilmente a ellos.\n",
    "\n",
    " Basicamente, estas tareas se reflejan en el siguiente flujo:\n",
    "\n",
    " ![Flujo tratamiento datos](data/flow.png)\n",
    "\n",
    "## Tecnologías\n",
    "\n",
    "La programación es una herramienta transversal que podemos utilizar en cada parte de nuestros proyectos. No necesitamos ser programadores expertos para poder trabajar con datos, pero si que es necesario aprender programación. Esto nos permitirá automatizar tareas comunes y resolver nuevos problemas con mayor facilidad y rapidez.\n",
    "\n",
    "En este curso vamos a trabajar con dos marcos tecnológicos diferentes **R** y **Python** ambos son lenguajes de programación que nos permiten trabajar con datos. **R** es considerada una herramienta muy útil en el ámbito académico mientras que **Python** es un lenguaje de propósito general, es decir, puede servirnos desde construir páginas web a sistemas de inteligencia artificial avanzados.\n",
    "\n",
    "Nos será interesante conocer ambos lenguajes porque tienen filosofías de trabajo diferentes y nos pueden ayudar en diferentes situaciones.\n",
    "\n",
    "\n",
    " ![Logos R y Python](data/pythonR.png)\n",
    "\n",
    "\n",
    "\n"
   ]
  }
 ],
 "metadata": {
  "kernelspec": {
   "display_name": "Python 3.9.7 64-bit ('3.9.7')",
   "language": "python",
   "name": "python3"
  },
  "language_info": {
   "name": "python",
   "version": "3.9.7"
  },
  "orig_nbformat": 4,
  "vscode": {
   "interpreter": {
    "hash": "1dd6de46b7c7be538353ccdeaa948031a5b4d43665739a26f55ca28b247c53cc"
   }
  }
 },
 "nbformat": 4,
 "nbformat_minor": 2
}