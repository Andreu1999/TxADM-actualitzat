{
 "cells": [
  {
   "cell_type": "markdown",
   "metadata": {
    "pycharm": {
     "name": "#%% md\n"
    }
   },
   "source": [
    "# Hello World!\n",
    "\n",
    "### Datos\n",
    "\n",
    "La ciencia de datos es un campo de estudio y práctica que se centra en obtener información de los datos. Mediante el uso de técnicas programación, conocimiento estadístico y técnicas de aprendizaje automático podremos tratar \"grandes\" conjuntos de datos en busca de patrones que puedan usarse para analizar el pasado o incluso predecir el futuro.\n",
    "\n",
    "\n",
    "\n",
    "\n",
    "\n",
    "## Tecnologías\n",
    "\n",
    "\n",
    "\n",
    "\n"
   ]
  }
 ],
 "metadata": {
  "kernelspec": {
   "display_name": "Python 3.9.7 64-bit ('3.9.7')",
   "language": "python",
   "name": "python3"
  },
  "language_info": {
   "name": "python",
   "version": "3.9.7"
  },
  "orig_nbformat": 4,
  "vscode": {
   "interpreter": {
    "hash": "1dd6de46b7c7be538353ccdeaa948031a5b4d43665739a26f55ca28b247c53cc"
   }
  }
 },
 "nbformat": 4,
 "nbformat_minor": 2
}