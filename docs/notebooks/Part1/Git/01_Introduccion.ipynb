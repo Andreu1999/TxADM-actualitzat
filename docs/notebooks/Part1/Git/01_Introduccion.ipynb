{
 "cells": [
  {
   "cell_type": "markdown",
   "source": [
    "# Git\n",
    "\n",
    "Git es un sistema de control de versiones. Su propósito original era ayudar a grupos de desarrolladores a trabajar en colaboración en grandes proyectos de software. Git administra la evolución de un conjunto de archivos, llamado repositorio, de una manera sensata y altamente estructurada. Si nunca hemos oído hablar de ello, nos los podemos imaginar como las funciones de \"Control de cambios\" de Microsoft Word con esteroides.\n",
    "\n",
    "Git ha sido rediseñado por la comunidad de ciencia de datos. Además de usarlo para el código fuente, lo usamos para administrar la variada colección de archivos que conforman los proyectos típicos de análisis de datos, que a menudo consisten en datos, cifras, informes y, sí, código fuente.\n",
    "\n",
    "Un analista de datos en solitario, que trabaja en una sola computadora, se beneficiará de la adopción del control de versiones. Pero no lo suficiente como para justificar el dolor de la instalación y la agitación del flujo de trabajo. Hay formas mucho más fáciles de obtener copias de seguridad versionadas de sus archivos, si eso es todo lo que le preocupa.\n",
    "\n",
    "En mi opinión, para los nuevos usuarios, las ventajas de Git solo superan a las desventajas cuando se tienen en cuenta los gastos generales de comunicación y colaboración con otras personas. ¿Quién de nosotros no necesita hacer eso? Tu vida es mucho más fácil si esto se integra en tu flujo de trabajo, en lugar de ser un proceso separado que temes o descuides.\n",
    "\n",
    "## Github\n",
    "\n",
    "Aquí es donde entran los servicios de alojamiento como GitHub, Bitbucket y GitLab. Estos proporcionan un hogar para nuestros proyectos basados en Git en Internet. Si no tiene idea de lo que estoy hablando, piense en ello como DropBox pero mucho, mucho mejor. El host remoto actúa como un canal de distribución o cámara de compensación para su proyecto administrado por Git. Permite que otras personas vean tus cosas, se sincronicen contigo y tal vez incluso hagan cambios. Estos proveedores de alojamiento mejoran los servidores Unix Git tradicionales con interfaces basadas en web bien diseñadas.\n",
    "\n",
    "Incluso para proyectos privados en solitario, es una buena idea trasladar su trabajo a una ubicación remota para su tranquilidad. ¿Por qué? Porque es bastante fácil arruinar tu repositorio Git local, especialmente cuando eres nuevo en esto. La buena noticia es que, a menudo, solo se interrumpe la infraestructura de Git. ¡Tus archivos están bien! Lo que hace que tu encurtido de Git sea aún más frustrante. Existen soluciones oficiales de Git para estos problemas, pero es posible que requieran experiencia y paciencia a las que no puede acceder a las 3 a. solo existe localmente y sigue con tu vida.\n",
    "\n",
    "Nos dirigimos a GitHub, no a Bitbucket o GitLab, por el bien de la especificidad. Sin embargo, todos los principios generales e incluso algunos mecanismos se trasladarán a estas plataformas de alojamiento alternativas.\n",
    "\n",
    "No se deje atrapar demasiado por lo público versus lo privado en este punto. Hay muchas formas de obtener repositorios privados de los principales proveedores a bajo costo o sin costo alguno. ¡Simplemente comience y averigüe si Git/GitHub funcionará para usted y cómo lo hará! Si supera este arreglo, puede arrojar una combinación de conocimientos técnicos y dinero al problema. Puede pagar por un nivel más alto de servicio o hospedar una de estas plataformas.\n"
   ],
   "metadata": {
    "collapsed": false,
    "pycharm": {
     "name": "#%% md\n"
    }
   }
  }
 ],
 "metadata": {
  "kernelspec": {
   "display_name": "Python 3",
   "language": "python",
   "name": "python3"
  },
  "language_info": {
   "codemirror_mode": {
    "name": "ipython",
    "version": 2
   },
   "file_extension": ".py",
   "mimetype": "text/x-python",
   "name": "python",
   "nbconvert_exporter": "python",
   "pygments_lexer": "ipython2",
   "version": "2.7.6"
  }
 },
 "nbformat": 4,
 "nbformat_minor": 0
}