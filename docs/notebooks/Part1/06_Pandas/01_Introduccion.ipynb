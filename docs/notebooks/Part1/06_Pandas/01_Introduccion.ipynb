{
 "cells": [
  {
   "cell_type": "code",
   "execution_count": null,
   "metadata": {
    "slideshow": {
     "slide_type": "skip"
    },
    "pycharm": {
     "name": "#%%\n"
    }
   },
   "outputs": [],
   "source": [
    "%matplotlib inline"
   ]
  },
  {
   "cell_type": "markdown",
   "metadata": {
    "slideshow": {
     "slide_type": "slide"
    },
    "pycharm": {
     "name": "#%% md\n"
    }
   },
   "source": [
    "# Pandas\n",
    "\n",
    "**Pandas** es la librería por excelencia para el análisis de datos del lenguaje `Python`. Su nombre proviene de “panel data” (término econométrico). Inspirada en las funcionalidades de `R`, pero con el potencial de este lenguaje de propósito general.\n",
    "\n",
    "**Pandas** incluye todas las funcionalidades necesarias para el proceso de análisis de datos: carga, filtrado, tratamiento, síntesis, agrupamiento, almacenamiento y visualización. Además, se integra con el resto de librerías de cálculo numérico como `Numpy`, `Matplotlib`, `scikit-learn`, …  y de despliegue: `HPC`, `Cloud`, etc.\n",
    "\n",
    "En resumen, **es como una hoja de cálculo -por ejemplo excel- pero con más mucho más potencial!!!**\n",
    "\n",
    "[Características principales](https://github.com/pandas-dev/pandas#main-features)\n"
   ]
  },
  {
   "cell_type": "markdown",
   "metadata": {
    "slideshow": {
     "slide_type": "slide"
    },
    "pycharm": {
     "name": "#%% md\n"
    }
   },
   "source": [
    "## Introducción a Pandas\n",
    "\n",
    "Todo el trabajo que realizaremos es sobre la estructura de datos básica: el `dataFrame`.\n",
    "\n",
    "Un `dataFrame` es un objeto de dos dimensiones que contiene información. También puede verse como una **hoja de cálculo**, como una tabla de un modelo entidad-relación, o como una colección de una base de datos no relacional.\n",
    "\n",
    "[Documentación](http://pandas.pydata.org/pandas-docs/stable/generated/pandas.DataFrame.html)"
   ]
  },
  {
   "cell_type": "markdown",
   "metadata": {
    "pycharm": {
     "name": "#%% md\n"
    }
   },
   "source": [
    "Importación de la libreria\n",
    "```Python\n",
    "import pandas as pd\n",
    "import pandas\n",
    "from pandas import *\n",
    "```\n",
    "\n",
    "Por convención se hace de la siguiente manera, todas las funciones de la libreria se tienen que llamar con el prefijo pd.*:"
   ]
  },
  {
   "cell_type": "code",
   "execution_count": 2,
   "metadata": {
    "pycharm": {
     "name": "#%%\n"
    }
   },
   "outputs": [],
   "source": [
    "import pandas as pd"
   ]
  },
  {
   "cell_type": "markdown",
   "metadata": {
    "slideshow": {
     "slide_type": "slide"
    },
    "pycharm": {
     "name": "#%% md\n"
    }
   },
   "source": [
    "# Primeros pasos con Pandas\n",
    "Vamos a aprender Pandas a través de una serie de proyectos y ejemplos. En esta primera fase, vamos a cargar datos de un fichero _CSV_, recordad que son ficheros donde los atributos/valores de una observación están separados por una coma y las observaciones se separan mediante un salto de línea.\n",
    "\n",
    "Podemos descargar los datos con los que trabajaremos del siguiente enlace [WHO dataset](http://www.exploredata.net/Downloads/WHO-Data-Set)\n",
    "\n"
   ]
  },
  {
   "cell_type": "markdown",
   "metadata": {
    "slideshow": {
     "slide_type": "slide"
    },
    "pycharm": {
     "name": "#%% md\n"
    }
   },
   "source": [
    "Empezamos viendo como se carga un dataframe a partir de un fichero en formato CSV."
   ]
  },
  {
   "cell_type": "code",
   "execution_count": 3,
   "metadata": {
    "slideshow": {
     "slide_type": "fragment"
    },
    "pycharm": {
     "name": "#%%\n"
    }
   },
   "outputs": [],
   "source": [
    "df = pd.read_csv(\"data/WHO.csv\")"
   ]
  },
  {
   "cell_type": "markdown",
   "metadata": {
    "slideshow": {
     "slide_type": "slide"
    },
    "pycharm": {
     "name": "#%% md\n"
    }
   },
   "source": [
    "A continuación se muestra la estructura interna del DataFrame. Se puede ver que és muy parecido a una tabla bidimensional:"
   ]
  },
  {
   "cell_type": "code",
   "execution_count": 6,
   "metadata": {
    "scrolled": true,
    "slideshow": {
     "slide_type": "fragment"
    },
    "pycharm": {
     "name": "#%%\n"
    }
   },
   "outputs": [
    {
     "data": {
      "text/plain": "                Country  CountryID  Continent  Adolescent fertility rate (%)  \\\n0           Afghanistan          1          1                          151.0   \n1               Albania          2          2                           27.0   \n2               Algeria          3          3                            6.0   \n3               Andorra          4          2                            NaN   \n4                Angola          5          3                          146.0   \n..                  ...        ...        ...                            ...   \n197             Vietnam        198          6                           25.0   \n198  West Bank and Gaza        199          1                            NaN   \n199               Yemen        200          1                           83.0   \n200              Zambia        201          3                          161.0   \n201            Zimbabwe        202          3                          101.0   \n\n     Adult literacy rate (%)  \\\n0                       28.0   \n1                       98.7   \n2                       69.9   \n3                        NaN   \n4                       67.4   \n..                       ...   \n197                     90.3   \n198                      NaN   \n199                     54.1   \n200                     68.0   \n201                     89.5   \n\n     Gross national income per capita (PPP international $)  \\\n0                                                  NaN        \n1                                               6000.0        \n2                                               5940.0        \n3                                                  NaN        \n4                                               3890.0        \n..                                                 ...        \n197                                             2310.0        \n198                                                NaN        \n199                                             2090.0        \n200                                             1140.0        \n201                                                NaN        \n\n     Net primary school enrolment ratio female (%)  \\\n0                                              NaN   \n1                                             93.0   \n2                                             94.0   \n3                                             83.0   \n4                                             49.0   \n..                                             ...   \n197                                           91.0   \n198                                            NaN   \n199                                           65.0   \n200                                           94.0   \n201                                           88.0   \n\n     Net primary school enrolment ratio male (%)  \\\n0                                            NaN   \n1                                           94.0   \n2                                           96.0   \n3                                           83.0   \n4                                           51.0   \n..                                           ...   \n197                                         96.0   \n198                                          NaN   \n199                                         85.0   \n200                                         90.0   \n201                                         87.0   \n\n     Population (in thousands) total  Population annual growth rate (%)  ...  \\\n0                            26088.0                                4.0  ...   \n1                             3172.0                                0.6  ...   \n2                            33351.0                                1.5  ...   \n3                               74.0                                1.0  ...   \n4                            16557.0                                2.8  ...   \n..                               ...                                ...  ...   \n197                          86206.0                                1.4  ...   \n198                              NaN                                NaN  ...   \n199                          21732.0                                3.0  ...   \n200                          11696.0                                1.9  ...   \n201                          13228.0                                0.8  ...   \n\n     Total_CO2_emissions  Total_income  Total_reserves  \\\n0                 692.50           NaN             NaN   \n1                3499.12  4.790000e+09           78.14   \n2              137535.56  6.970000e+10          351.36   \n3                    NaN           NaN             NaN   \n4                8991.46  1.490000e+10           27.13   \n..                   ...           ...             ...   \n197            101826.23  4.480000e+10           47.11   \n198               655.86  3.780000e+09             NaN   \n199             20148.34  1.150000e+10          114.52   \n200              2366.94  4.090000e+09           10.41   \n201             11457.33  5.620000e+09            3.39   \n\n     Trade_balance_goods_and_services  Under_five_mortality_from_CME  \\\n0                                 NaN                         257.00   \n1                       -2.040000e+09                          18.47   \n2                        4.700000e+09                          40.00   \n3                                 NaN                            NaN   \n4                        9.140000e+09                         164.10   \n..                                ...                            ...   \n197                     -1.940000e+09                          20.20   \n198                               NaN                          28.00   \n199                      8.310000e+08                          82.40   \n200                     -4.470000e+08                         175.30   \n201                     -1.710000e+08                         106.50   \n\n     Under_five_mortality_from_IHME  Under_five_mortality_rate  \\\n0                             231.9                     257.00   \n1                              15.5                      18.47   \n2                              31.2                      40.00   \n3                               NaN                        NaN   \n4                             242.5                     164.10   \n..                              ...                        ...   \n197                            23.4                      20.20   \n198                            25.8                      28.00   \n199                            87.9                      82.40   \n200                           163.8                     175.30   \n201                            67.0                     106.50   \n\n     Urban_population  Urban_population_growth  Urban_population_pct_of_total  \n0           5740436.0                     5.44                           22.9  \n1           1431793.9                     2.21                           45.4  \n2          20800000.0                     2.61                           63.3  \n3                 NaN                      NaN                            NaN  \n4           8578749.0                     4.14                           53.3  \n..                ...                      ...                            ...  \n197        21900000.0                     2.90                           26.4  \n198         2596216.0                     3.33                           71.6  \n199         5759120.5                     4.37                           27.3  \n200         4017411.0                     1.95                           35.0  \n201         4709965.0                     1.90                           35.9  \n\n[202 rows x 358 columns]",
      "text/html": "<div>\n<style scoped>\n    .dataframe tbody tr th:only-of-type {\n        vertical-align: middle;\n    }\n\n    .dataframe tbody tr th {\n        vertical-align: top;\n    }\n\n    .dataframe thead th {\n        text-align: right;\n    }\n</style>\n<table border=\"1\" class=\"dataframe\">\n  <thead>\n    <tr style=\"text-align: right;\">\n      <th></th>\n      <th>Country</th>\n      <th>CountryID</th>\n      <th>Continent</th>\n      <th>Adolescent fertility rate (%)</th>\n      <th>Adult literacy rate (%)</th>\n      <th>Gross national income per capita (PPP international $)</th>\n      <th>Net primary school enrolment ratio female (%)</th>\n      <th>Net primary school enrolment ratio male (%)</th>\n      <th>Population (in thousands) total</th>\n      <th>Population annual growth rate (%)</th>\n      <th>...</th>\n      <th>Total_CO2_emissions</th>\n      <th>Total_income</th>\n      <th>Total_reserves</th>\n      <th>Trade_balance_goods_and_services</th>\n      <th>Under_five_mortality_from_CME</th>\n      <th>Under_five_mortality_from_IHME</th>\n      <th>Under_five_mortality_rate</th>\n      <th>Urban_population</th>\n      <th>Urban_population_growth</th>\n      <th>Urban_population_pct_of_total</th>\n    </tr>\n  </thead>\n  <tbody>\n    <tr>\n      <th>0</th>\n      <td>Afghanistan</td>\n      <td>1</td>\n      <td>1</td>\n      <td>151.0</td>\n      <td>28.0</td>\n      <td>NaN</td>\n      <td>NaN</td>\n      <td>NaN</td>\n      <td>26088.0</td>\n      <td>4.0</td>\n      <td>...</td>\n      <td>692.50</td>\n      <td>NaN</td>\n      <td>NaN</td>\n      <td>NaN</td>\n      <td>257.00</td>\n      <td>231.9</td>\n      <td>257.00</td>\n      <td>5740436.0</td>\n      <td>5.44</td>\n      <td>22.9</td>\n    </tr>\n    <tr>\n      <th>1</th>\n      <td>Albania</td>\n      <td>2</td>\n      <td>2</td>\n      <td>27.0</td>\n      <td>98.7</td>\n      <td>6000.0</td>\n      <td>93.0</td>\n      <td>94.0</td>\n      <td>3172.0</td>\n      <td>0.6</td>\n      <td>...</td>\n      <td>3499.12</td>\n      <td>4.790000e+09</td>\n      <td>78.14</td>\n      <td>-2.040000e+09</td>\n      <td>18.47</td>\n      <td>15.5</td>\n      <td>18.47</td>\n      <td>1431793.9</td>\n      <td>2.21</td>\n      <td>45.4</td>\n    </tr>\n    <tr>\n      <th>2</th>\n      <td>Algeria</td>\n      <td>3</td>\n      <td>3</td>\n      <td>6.0</td>\n      <td>69.9</td>\n      <td>5940.0</td>\n      <td>94.0</td>\n      <td>96.0</td>\n      <td>33351.0</td>\n      <td>1.5</td>\n      <td>...</td>\n      <td>137535.56</td>\n      <td>6.970000e+10</td>\n      <td>351.36</td>\n      <td>4.700000e+09</td>\n      <td>40.00</td>\n      <td>31.2</td>\n      <td>40.00</td>\n      <td>20800000.0</td>\n      <td>2.61</td>\n      <td>63.3</td>\n    </tr>\n    <tr>\n      <th>3</th>\n      <td>Andorra</td>\n      <td>4</td>\n      <td>2</td>\n      <td>NaN</td>\n      <td>NaN</td>\n      <td>NaN</td>\n      <td>83.0</td>\n      <td>83.0</td>\n      <td>74.0</td>\n      <td>1.0</td>\n      <td>...</td>\n      <td>NaN</td>\n      <td>NaN</td>\n      <td>NaN</td>\n      <td>NaN</td>\n      <td>NaN</td>\n      <td>NaN</td>\n      <td>NaN</td>\n      <td>NaN</td>\n      <td>NaN</td>\n      <td>NaN</td>\n    </tr>\n    <tr>\n      <th>4</th>\n      <td>Angola</td>\n      <td>5</td>\n      <td>3</td>\n      <td>146.0</td>\n      <td>67.4</td>\n      <td>3890.0</td>\n      <td>49.0</td>\n      <td>51.0</td>\n      <td>16557.0</td>\n      <td>2.8</td>\n      <td>...</td>\n      <td>8991.46</td>\n      <td>1.490000e+10</td>\n      <td>27.13</td>\n      <td>9.140000e+09</td>\n      <td>164.10</td>\n      <td>242.5</td>\n      <td>164.10</td>\n      <td>8578749.0</td>\n      <td>4.14</td>\n      <td>53.3</td>\n    </tr>\n    <tr>\n      <th>...</th>\n      <td>...</td>\n      <td>...</td>\n      <td>...</td>\n      <td>...</td>\n      <td>...</td>\n      <td>...</td>\n      <td>...</td>\n      <td>...</td>\n      <td>...</td>\n      <td>...</td>\n      <td>...</td>\n      <td>...</td>\n      <td>...</td>\n      <td>...</td>\n      <td>...</td>\n      <td>...</td>\n      <td>...</td>\n      <td>...</td>\n      <td>...</td>\n      <td>...</td>\n      <td>...</td>\n    </tr>\n    <tr>\n      <th>197</th>\n      <td>Vietnam</td>\n      <td>198</td>\n      <td>6</td>\n      <td>25.0</td>\n      <td>90.3</td>\n      <td>2310.0</td>\n      <td>91.0</td>\n      <td>96.0</td>\n      <td>86206.0</td>\n      <td>1.4</td>\n      <td>...</td>\n      <td>101826.23</td>\n      <td>4.480000e+10</td>\n      <td>47.11</td>\n      <td>-1.940000e+09</td>\n      <td>20.20</td>\n      <td>23.4</td>\n      <td>20.20</td>\n      <td>21900000.0</td>\n      <td>2.90</td>\n      <td>26.4</td>\n    </tr>\n    <tr>\n      <th>198</th>\n      <td>West Bank and Gaza</td>\n      <td>199</td>\n      <td>1</td>\n      <td>NaN</td>\n      <td>NaN</td>\n      <td>NaN</td>\n      <td>NaN</td>\n      <td>NaN</td>\n      <td>NaN</td>\n      <td>NaN</td>\n      <td>...</td>\n      <td>655.86</td>\n      <td>3.780000e+09</td>\n      <td>NaN</td>\n      <td>NaN</td>\n      <td>28.00</td>\n      <td>25.8</td>\n      <td>28.00</td>\n      <td>2596216.0</td>\n      <td>3.33</td>\n      <td>71.6</td>\n    </tr>\n    <tr>\n      <th>199</th>\n      <td>Yemen</td>\n      <td>200</td>\n      <td>1</td>\n      <td>83.0</td>\n      <td>54.1</td>\n      <td>2090.0</td>\n      <td>65.0</td>\n      <td>85.0</td>\n      <td>21732.0</td>\n      <td>3.0</td>\n      <td>...</td>\n      <td>20148.34</td>\n      <td>1.150000e+10</td>\n      <td>114.52</td>\n      <td>8.310000e+08</td>\n      <td>82.40</td>\n      <td>87.9</td>\n      <td>82.40</td>\n      <td>5759120.5</td>\n      <td>4.37</td>\n      <td>27.3</td>\n    </tr>\n    <tr>\n      <th>200</th>\n      <td>Zambia</td>\n      <td>201</td>\n      <td>3</td>\n      <td>161.0</td>\n      <td>68.0</td>\n      <td>1140.0</td>\n      <td>94.0</td>\n      <td>90.0</td>\n      <td>11696.0</td>\n      <td>1.9</td>\n      <td>...</td>\n      <td>2366.94</td>\n      <td>4.090000e+09</td>\n      <td>10.41</td>\n      <td>-4.470000e+08</td>\n      <td>175.30</td>\n      <td>163.8</td>\n      <td>175.30</td>\n      <td>4017411.0</td>\n      <td>1.95</td>\n      <td>35.0</td>\n    </tr>\n    <tr>\n      <th>201</th>\n      <td>Zimbabwe</td>\n      <td>202</td>\n      <td>3</td>\n      <td>101.0</td>\n      <td>89.5</td>\n      <td>NaN</td>\n      <td>88.0</td>\n      <td>87.0</td>\n      <td>13228.0</td>\n      <td>0.8</td>\n      <td>...</td>\n      <td>11457.33</td>\n      <td>5.620000e+09</td>\n      <td>3.39</td>\n      <td>-1.710000e+08</td>\n      <td>106.50</td>\n      <td>67.0</td>\n      <td>106.50</td>\n      <td>4709965.0</td>\n      <td>1.90</td>\n      <td>35.9</td>\n    </tr>\n  </tbody>\n</table>\n<p>202 rows × 358 columns</p>\n</div>"
     },
     "execution_count": 6,
     "metadata": {},
     "output_type": "execute_result"
    }
   ],
   "source": [
    "df"
   ]
  },
  {
   "cell_type": "markdown",
   "metadata": {
    "slideshow": {
     "slide_type": "slide"
    },
    "pycharm": {
     "name": "#%% md\n"
    }
   },
   "source": [
    "### Atributos de un DataFrame\n",
    "\n",
    "Un dataframe dispone de diferentes atributos con los que podemos obtener su información o metainformación. Los siguientes ejemplos muestran cómo se pueden consultar sus dimensiones o un listado del nombre de sus columnas:"
   ]
  },
  {
   "cell_type": "code",
   "execution_count": null,
   "metadata": {
    "slideshow": {
     "slide_type": "fragment"
    },
    "pycharm": {
     "name": "#%%\n"
    }
   },
   "outputs": [],
   "source": [
    "df.shape # Ver las dimensiones **"
   ]
  },
  {
   "cell_type": "code",
   "execution_count": null,
   "metadata": {
    "slideshow": {
     "slide_type": "fragment"
    },
    "pycharm": {
     "name": "#%%\n"
    }
   },
   "outputs": [],
   "source": [
    "df.columns #**"
   ]
  },
  {
   "cell_type": "markdown",
   "metadata": {
    "slideshow": {
     "slide_type": "slide"
    },
    "pycharm": {
     "name": "#%% md\n"
    }
   },
   "source": [
    "Podemos aplicar sobre el listado de columnas todas las operaciones sobre listas que hemos visto en la introducción del curso. A continuación tenemos dos ejemplos de indexación:"
   ]
  },
  {
   "cell_type": "code",
   "execution_count": null,
   "metadata": {
    "slideshow": {
     "slide_type": "fragment"
    },
    "pycharm": {
     "name": "#%%\n"
    }
   },
   "outputs": [],
   "source": [
    "df.columns[0]"
   ]
  },
  {
   "cell_type": "code",
   "execution_count": null,
   "metadata": {
    "pycharm": {
     "name": "#%%\n"
    }
   },
   "outputs": [],
   "source": [
    "df.columns[:2]"
   ]
  },
  {
   "cell_type": "markdown",
   "metadata": {
    "slideshow": {
     "slide_type": "fragment"
    },
    "pycharm": {
     "name": "#%% md\n"
    }
   },
   "source": [
    "**¿Cómo consultariais el nombre de la columna 10? ¿y los de las columnas de la 200 a la 225?**"
   ]
  },
  {
   "cell_type": "code",
   "execution_count": null,
   "metadata": {
    "slideshow": {
     "slide_type": "slide"
    },
    "pycharm": {
     "name": "#%%\n"
    }
   },
   "outputs": [],
   "source": [
    "df.columns[200:226]\n",
    "\n",
    "df.columns[len(df.columns)-3:len(df.columns)]"
   ]
  },
  {
   "cell_type": "markdown",
   "metadata": {
    "slideshow": {
     "slide_type": "slide"
    },
    "pycharm": {
     "name": "#%% md\n"
    }
   },
   "source": [
    "## Funciones descriptivas de un dataframe\n",
    "\n",
    "`Pandas` ofrece una colección de funciones que permiten realizar una inspección general de la tabla de datos:\n",
    "\n",
    "- **describe**: muestra estadísticas descriptivas básicas para todas las columnas numéricas.\n",
    "- **info**: muestra todas las columnas y sus tipos de datos.\n",
    "- **head** i **tail**: muestra las $n$ primeras/últimas filas. El valor de $n$ es un parámetro de este método.\n"
   ]
  },
  {
   "cell_type": "code",
   "execution_count": 7,
   "metadata": {
    "pycharm": {
     "name": "#%%\n"
    }
   },
   "outputs": [
    {
     "data": {
      "text/plain": "        CountryID   Continent  Adolescent fertility rate (%)  \\\ncount  202.000000  202.000000                     177.000000   \nmean   101.500000    3.579208                      59.457627   \nstd     58.456537    1.808263                      49.105286   \nmin      1.000000    1.000000                       0.000000   \n25%     51.250000    2.000000                      19.000000   \n50%    101.500000    3.000000                      46.000000   \n75%    151.750000    5.000000                      91.000000   \nmax    202.000000    7.000000                     199.000000   \n\n       Adult literacy rate (%)  \\\ncount               131.000000   \nmean                 78.871756   \nstd                  20.415760   \nmin                  23.600000   \n25%                  68.400000   \n50%                  86.500000   \n75%                  95.300000   \nmax                  99.800000   \n\n       Gross national income per capita (PPP international $)  \\\ncount                                         178.000000        \nmean                                        11250.112360        \nstd                                         12586.753417        \nmin                                           260.000000        \n25%                                          2112.500000        \n50%                                          6175.000000        \n75%                                         14502.500000        \nmax                                         60870.000000        \n\n       Net primary school enrolment ratio female (%)  \\\ncount                                     179.000000   \nmean                                       84.033520   \nstd                                        17.788047   \nmin                                         6.000000   \n25%                                        79.000000   \n50%                                        90.000000   \n75%                                        96.000000   \nmax                                       100.000000   \n\n       Net primary school enrolment ratio male (%)  \\\ncount                                   179.000000   \nmean                                     85.698324   \nstd                                      15.451212   \nmin                                      11.000000   \n25%                                      79.500000   \n50%                                      90.000000   \n75%                                      96.000000   \nmax                                     100.000000   \n\n       Population (in thousands) total  Population annual growth rate (%)  \\\ncount                     1.930000e+02                         193.000000   \nmean                      3.409805e+04                           1.297927   \nstd                       1.304957e+05                           1.163864   \nmin                       2.000000e+00                          -2.500000   \n25%                       1.340000e+03                           0.500000   \n50%                       6.762000e+03                           1.300000   \n75%                       2.173200e+04                           2.100000   \nmax                       1.328474e+06                           4.300000   \n\n       Population in urban areas (%)  ...  Total_CO2_emissions  Total_income  \\\ncount                     193.000000  ...         1.860000e+02  1.780000e+02   \nmean                       54.911917  ...         1.483596e+05  2.015567e+11   \nstd                        23.554182  ...         6.133091e+05  9.400689e+11   \nmin                        10.000000  ...         2.565000e+01  5.190000e+07   \n25%                        36.000000  ...         1.672615e+03  3.317500e+09   \n50%                        57.000000  ...         1.021157e+04  1.145000e+10   \n75%                        73.000000  ...         6.549217e+04  8.680000e+10   \nmax                       100.000000  ...         5.776432e+06  1.100000e+13   \n\n       Total_reserves  Trade_balance_goods_and_services  \\\ncount      128.000000                      1.710000e+02   \nmean        57.253516                      3.424012e+08   \nstd        138.669298                      5.943043e+10   \nmin          0.990000                     -7.140000e+11   \n25%         16.292500                     -1.210000e+09   \n50%         28.515000                     -2.240000e+08   \n75%         55.310000                      1.024000e+09   \nmax       1334.860000                      1.390000e+11   \n\n       Under_five_mortality_from_CME  Under_five_mortality_from_IHME  \\\ncount                     181.000000                      170.000000   \nmean                       56.677624                       54.356471   \nstd                        60.060929                       61.160556   \nmin                         2.900000                        3.000000   \n25%                        12.400000                        8.475000   \n50%                        29.980000                       27.600000   \n75%                        88.700000                       82.900000   \nmax                       267.000000                      253.700000   \n\n       Under_five_mortality_rate  Urban_population  Urban_population_growth  \\\ncount                 181.000000      1.880000e+02               188.000000   \nmean                   56.677624      1.665763e+07                 2.165851   \nstd                    60.060929      5.094867e+07                 1.596628   \nmin                     2.900000      1.545600e+04                -1.160000   \n25%                    12.400000      9.171623e+05                 1.105000   \n50%                    29.980000      3.427661e+06                 1.945000   \n75%                    88.700000      9.837113e+06                 3.252500   \nmax                   267.000000      5.270000e+08                 7.850000   \n\n       Urban_population_pct_of_total  \ncount                     188.000000  \nmean                       55.195213  \nstd                        23.742122  \nmin                        10.000000  \n25%                        35.650000  \n50%                        57.300000  \n75%                        72.750000  \nmax                       100.000000  \n\n[8 rows x 357 columns]",
      "text/html": "<div>\n<style scoped>\n    .dataframe tbody tr th:only-of-type {\n        vertical-align: middle;\n    }\n\n    .dataframe tbody tr th {\n        vertical-align: top;\n    }\n\n    .dataframe thead th {\n        text-align: right;\n    }\n</style>\n<table border=\"1\" class=\"dataframe\">\n  <thead>\n    <tr style=\"text-align: right;\">\n      <th></th>\n      <th>CountryID</th>\n      <th>Continent</th>\n      <th>Adolescent fertility rate (%)</th>\n      <th>Adult literacy rate (%)</th>\n      <th>Gross national income per capita (PPP international $)</th>\n      <th>Net primary school enrolment ratio female (%)</th>\n      <th>Net primary school enrolment ratio male (%)</th>\n      <th>Population (in thousands) total</th>\n      <th>Population annual growth rate (%)</th>\n      <th>Population in urban areas (%)</th>\n      <th>...</th>\n      <th>Total_CO2_emissions</th>\n      <th>Total_income</th>\n      <th>Total_reserves</th>\n      <th>Trade_balance_goods_and_services</th>\n      <th>Under_five_mortality_from_CME</th>\n      <th>Under_five_mortality_from_IHME</th>\n      <th>Under_five_mortality_rate</th>\n      <th>Urban_population</th>\n      <th>Urban_population_growth</th>\n      <th>Urban_population_pct_of_total</th>\n    </tr>\n  </thead>\n  <tbody>\n    <tr>\n      <th>count</th>\n      <td>202.000000</td>\n      <td>202.000000</td>\n      <td>177.000000</td>\n      <td>131.000000</td>\n      <td>178.000000</td>\n      <td>179.000000</td>\n      <td>179.000000</td>\n      <td>1.930000e+02</td>\n      <td>193.000000</td>\n      <td>193.000000</td>\n      <td>...</td>\n      <td>1.860000e+02</td>\n      <td>1.780000e+02</td>\n      <td>128.000000</td>\n      <td>1.710000e+02</td>\n      <td>181.000000</td>\n      <td>170.000000</td>\n      <td>181.000000</td>\n      <td>1.880000e+02</td>\n      <td>188.000000</td>\n      <td>188.000000</td>\n    </tr>\n    <tr>\n      <th>mean</th>\n      <td>101.500000</td>\n      <td>3.579208</td>\n      <td>59.457627</td>\n      <td>78.871756</td>\n      <td>11250.112360</td>\n      <td>84.033520</td>\n      <td>85.698324</td>\n      <td>3.409805e+04</td>\n      <td>1.297927</td>\n      <td>54.911917</td>\n      <td>...</td>\n      <td>1.483596e+05</td>\n      <td>2.015567e+11</td>\n      <td>57.253516</td>\n      <td>3.424012e+08</td>\n      <td>56.677624</td>\n      <td>54.356471</td>\n      <td>56.677624</td>\n      <td>1.665763e+07</td>\n      <td>2.165851</td>\n      <td>55.195213</td>\n    </tr>\n    <tr>\n      <th>std</th>\n      <td>58.456537</td>\n      <td>1.808263</td>\n      <td>49.105286</td>\n      <td>20.415760</td>\n      <td>12586.753417</td>\n      <td>17.788047</td>\n      <td>15.451212</td>\n      <td>1.304957e+05</td>\n      <td>1.163864</td>\n      <td>23.554182</td>\n      <td>...</td>\n      <td>6.133091e+05</td>\n      <td>9.400689e+11</td>\n      <td>138.669298</td>\n      <td>5.943043e+10</td>\n      <td>60.060929</td>\n      <td>61.160556</td>\n      <td>60.060929</td>\n      <td>5.094867e+07</td>\n      <td>1.596628</td>\n      <td>23.742122</td>\n    </tr>\n    <tr>\n      <th>min</th>\n      <td>1.000000</td>\n      <td>1.000000</td>\n      <td>0.000000</td>\n      <td>23.600000</td>\n      <td>260.000000</td>\n      <td>6.000000</td>\n      <td>11.000000</td>\n      <td>2.000000e+00</td>\n      <td>-2.500000</td>\n      <td>10.000000</td>\n      <td>...</td>\n      <td>2.565000e+01</td>\n      <td>5.190000e+07</td>\n      <td>0.990000</td>\n      <td>-7.140000e+11</td>\n      <td>2.900000</td>\n      <td>3.000000</td>\n      <td>2.900000</td>\n      <td>1.545600e+04</td>\n      <td>-1.160000</td>\n      <td>10.000000</td>\n    </tr>\n    <tr>\n      <th>25%</th>\n      <td>51.250000</td>\n      <td>2.000000</td>\n      <td>19.000000</td>\n      <td>68.400000</td>\n      <td>2112.500000</td>\n      <td>79.000000</td>\n      <td>79.500000</td>\n      <td>1.340000e+03</td>\n      <td>0.500000</td>\n      <td>36.000000</td>\n      <td>...</td>\n      <td>1.672615e+03</td>\n      <td>3.317500e+09</td>\n      <td>16.292500</td>\n      <td>-1.210000e+09</td>\n      <td>12.400000</td>\n      <td>8.475000</td>\n      <td>12.400000</td>\n      <td>9.171623e+05</td>\n      <td>1.105000</td>\n      <td>35.650000</td>\n    </tr>\n    <tr>\n      <th>50%</th>\n      <td>101.500000</td>\n      <td>3.000000</td>\n      <td>46.000000</td>\n      <td>86.500000</td>\n      <td>6175.000000</td>\n      <td>90.000000</td>\n      <td>90.000000</td>\n      <td>6.762000e+03</td>\n      <td>1.300000</td>\n      <td>57.000000</td>\n      <td>...</td>\n      <td>1.021157e+04</td>\n      <td>1.145000e+10</td>\n      <td>28.515000</td>\n      <td>-2.240000e+08</td>\n      <td>29.980000</td>\n      <td>27.600000</td>\n      <td>29.980000</td>\n      <td>3.427661e+06</td>\n      <td>1.945000</td>\n      <td>57.300000</td>\n    </tr>\n    <tr>\n      <th>75%</th>\n      <td>151.750000</td>\n      <td>5.000000</td>\n      <td>91.000000</td>\n      <td>95.300000</td>\n      <td>14502.500000</td>\n      <td>96.000000</td>\n      <td>96.000000</td>\n      <td>2.173200e+04</td>\n      <td>2.100000</td>\n      <td>73.000000</td>\n      <td>...</td>\n      <td>6.549217e+04</td>\n      <td>8.680000e+10</td>\n      <td>55.310000</td>\n      <td>1.024000e+09</td>\n      <td>88.700000</td>\n      <td>82.900000</td>\n      <td>88.700000</td>\n      <td>9.837113e+06</td>\n      <td>3.252500</td>\n      <td>72.750000</td>\n    </tr>\n    <tr>\n      <th>max</th>\n      <td>202.000000</td>\n      <td>7.000000</td>\n      <td>199.000000</td>\n      <td>99.800000</td>\n      <td>60870.000000</td>\n      <td>100.000000</td>\n      <td>100.000000</td>\n      <td>1.328474e+06</td>\n      <td>4.300000</td>\n      <td>100.000000</td>\n      <td>...</td>\n      <td>5.776432e+06</td>\n      <td>1.100000e+13</td>\n      <td>1334.860000</td>\n      <td>1.390000e+11</td>\n      <td>267.000000</td>\n      <td>253.700000</td>\n      <td>267.000000</td>\n      <td>5.270000e+08</td>\n      <td>7.850000</td>\n      <td>100.000000</td>\n    </tr>\n  </tbody>\n</table>\n<p>8 rows × 357 columns</p>\n</div>"
     },
     "execution_count": 7,
     "metadata": {},
     "output_type": "execute_result"
    }
   ],
   "source": [
    "df.describe()"
   ]
  },
  {
   "cell_type": "code",
   "execution_count": 8,
   "metadata": {
    "pycharm": {
     "name": "#%%\n"
    }
   },
   "outputs": [
    {
     "name": "stdout",
     "output_type": "stream",
     "text": [
      "<class 'pandas.core.frame.DataFrame'>\n",
      "RangeIndex: 202 entries, 0 to 201\n",
      "Columns: 358 entries, Country to Urban_population_pct_of_total\n",
      "dtypes: float64(355), int64(2), object(1)\n",
      "memory usage: 565.1+ KB\n"
     ]
    }
   ],
   "source": [
    "df.info()"
   ]
  },
  {
   "cell_type": "code",
   "execution_count": null,
   "metadata": {
    "pycharm": {
     "name": "#%%\n"
    }
   },
   "outputs": [],
   "source": [
    "df.head(5)"
   ]
  },
  {
   "cell_type": "code",
   "execution_count": null,
   "metadata": {
    "pycharm": {
     "name": "#%%\n"
    }
   },
   "outputs": [],
   "source": [
    "df.tail()"
   ]
  },
  {
   "cell_type": "code",
   "execution_count": null,
   "metadata": {
    "pycharm": {
     "name": "#%%\n"
    }
   },
   "outputs": [],
   "source": [
    "df.tail(2)\n"
   ]
  },
  {
   "cell_type": "markdown",
   "metadata": {
    "slideshow": {
     "slide_type": "slide"
    },
    "pycharm": {
     "name": "#%% md\n"
    }
   },
   "source": [
    "## Selección de información: columnas o filas\n",
    "\n",
    "Como ya imaginamos, **un dataframe no es una lista**, no podemos acceder de manera directa a su información mediante el uso del operador `[]`.\n",
    "\n",
    "La siguiente sentencia dará un error de ejecución:"
   ]
  },
  {
   "cell_type": "code",
   "execution_count": 9,
   "metadata": {
    "slideshow": {
     "slide_type": "fragment"
    },
    "pycharm": {
     "name": "#%%\n"
    }
   },
   "outputs": [
    {
     "ename": "KeyError",
     "evalue": "0",
     "output_type": "error",
     "traceback": [
      "\u001B[1;31m---------------------------------------------------------------------------\u001B[0m",
      "\u001B[1;31mKeyError\u001B[0m                                  Traceback (most recent call last)",
      "\u001B[1;32mc:\\users\\gabri\\pycharmprojects\\txadm\\venv\\lib\\site-packages\\pandas\\core\\indexes\\base.py\u001B[0m in \u001B[0;36mget_loc\u001B[1;34m(self, key, method, tolerance)\u001B[0m\n\u001B[0;32m   3360\u001B[0m             \u001B[1;32mtry\u001B[0m\u001B[1;33m:\u001B[0m\u001B[1;33m\u001B[0m\u001B[1;33m\u001B[0m\u001B[0m\n\u001B[1;32m-> 3361\u001B[1;33m                 \u001B[1;32mreturn\u001B[0m \u001B[0mself\u001B[0m\u001B[1;33m.\u001B[0m\u001B[0m_engine\u001B[0m\u001B[1;33m.\u001B[0m\u001B[0mget_loc\u001B[0m\u001B[1;33m(\u001B[0m\u001B[0mcasted_key\u001B[0m\u001B[1;33m)\u001B[0m\u001B[1;33m\u001B[0m\u001B[1;33m\u001B[0m\u001B[0m\n\u001B[0m\u001B[0;32m   3362\u001B[0m             \u001B[1;32mexcept\u001B[0m \u001B[0mKeyError\u001B[0m \u001B[1;32mas\u001B[0m \u001B[0merr\u001B[0m\u001B[1;33m:\u001B[0m\u001B[1;33m\u001B[0m\u001B[1;33m\u001B[0m\u001B[0m\n",
      "\u001B[1;32mc:\\users\\gabri\\pycharmprojects\\txadm\\venv\\lib\\site-packages\\pandas\\_libs\\index.pyx\u001B[0m in \u001B[0;36mpandas._libs.index.IndexEngine.get_loc\u001B[1;34m()\u001B[0m\n",
      "\u001B[1;32mc:\\users\\gabri\\pycharmprojects\\txadm\\venv\\lib\\site-packages\\pandas\\_libs\\index.pyx\u001B[0m in \u001B[0;36mpandas._libs.index.IndexEngine.get_loc\u001B[1;34m()\u001B[0m\n",
      "\u001B[1;32mpandas\\_libs\\hashtable_class_helper.pxi\u001B[0m in \u001B[0;36mpandas._libs.hashtable.PyObjectHashTable.get_item\u001B[1;34m()\u001B[0m\n",
      "\u001B[1;32mpandas\\_libs\\hashtable_class_helper.pxi\u001B[0m in \u001B[0;36mpandas._libs.hashtable.PyObjectHashTable.get_item\u001B[1;34m()\u001B[0m\n",
      "\u001B[1;31mKeyError\u001B[0m: 0",
      "\nThe above exception was the direct cause of the following exception:\n",
      "\u001B[1;31mKeyError\u001B[0m                                  Traceback (most recent call last)",
      "\u001B[1;32m~\\AppData\\Local\\Temp\\ipykernel_15720\\3813956558.py\u001B[0m in \u001B[0;36m<module>\u001B[1;34m\u001B[0m\n\u001B[1;32m----> 1\u001B[1;33m \u001B[0mdf\u001B[0m\u001B[1;33m[\u001B[0m\u001B[1;36m0\u001B[0m\u001B[1;33m]\u001B[0m\u001B[1;33m\u001B[0m\u001B[1;33m\u001B[0m\u001B[0m\n\u001B[0m",
      "\u001B[1;32mc:\\users\\gabri\\pycharmprojects\\txadm\\venv\\lib\\site-packages\\pandas\\core\\frame.py\u001B[0m in \u001B[0;36m__getitem__\u001B[1;34m(self, key)\u001B[0m\n\u001B[0;32m   3456\u001B[0m             \u001B[1;32mif\u001B[0m \u001B[0mself\u001B[0m\u001B[1;33m.\u001B[0m\u001B[0mcolumns\u001B[0m\u001B[1;33m.\u001B[0m\u001B[0mnlevels\u001B[0m \u001B[1;33m>\u001B[0m \u001B[1;36m1\u001B[0m\u001B[1;33m:\u001B[0m\u001B[1;33m\u001B[0m\u001B[1;33m\u001B[0m\u001B[0m\n\u001B[0;32m   3457\u001B[0m                 \u001B[1;32mreturn\u001B[0m \u001B[0mself\u001B[0m\u001B[1;33m.\u001B[0m\u001B[0m_getitem_multilevel\u001B[0m\u001B[1;33m(\u001B[0m\u001B[0mkey\u001B[0m\u001B[1;33m)\u001B[0m\u001B[1;33m\u001B[0m\u001B[1;33m\u001B[0m\u001B[0m\n\u001B[1;32m-> 3458\u001B[1;33m             \u001B[0mindexer\u001B[0m \u001B[1;33m=\u001B[0m \u001B[0mself\u001B[0m\u001B[1;33m.\u001B[0m\u001B[0mcolumns\u001B[0m\u001B[1;33m.\u001B[0m\u001B[0mget_loc\u001B[0m\u001B[1;33m(\u001B[0m\u001B[0mkey\u001B[0m\u001B[1;33m)\u001B[0m\u001B[1;33m\u001B[0m\u001B[1;33m\u001B[0m\u001B[0m\n\u001B[0m\u001B[0;32m   3459\u001B[0m             \u001B[1;32mif\u001B[0m \u001B[0mis_integer\u001B[0m\u001B[1;33m(\u001B[0m\u001B[0mindexer\u001B[0m\u001B[1;33m)\u001B[0m\u001B[1;33m:\u001B[0m\u001B[1;33m\u001B[0m\u001B[1;33m\u001B[0m\u001B[0m\n\u001B[0;32m   3460\u001B[0m                 \u001B[0mindexer\u001B[0m \u001B[1;33m=\u001B[0m \u001B[1;33m[\u001B[0m\u001B[0mindexer\u001B[0m\u001B[1;33m]\u001B[0m\u001B[1;33m\u001B[0m\u001B[1;33m\u001B[0m\u001B[0m\n",
      "\u001B[1;32mc:\\users\\gabri\\pycharmprojects\\txadm\\venv\\lib\\site-packages\\pandas\\core\\indexes\\base.py\u001B[0m in \u001B[0;36mget_loc\u001B[1;34m(self, key, method, tolerance)\u001B[0m\n\u001B[0;32m   3361\u001B[0m                 \u001B[1;32mreturn\u001B[0m \u001B[0mself\u001B[0m\u001B[1;33m.\u001B[0m\u001B[0m_engine\u001B[0m\u001B[1;33m.\u001B[0m\u001B[0mget_loc\u001B[0m\u001B[1;33m(\u001B[0m\u001B[0mcasted_key\u001B[0m\u001B[1;33m)\u001B[0m\u001B[1;33m\u001B[0m\u001B[1;33m\u001B[0m\u001B[0m\n\u001B[0;32m   3362\u001B[0m             \u001B[1;32mexcept\u001B[0m \u001B[0mKeyError\u001B[0m \u001B[1;32mas\u001B[0m \u001B[0merr\u001B[0m\u001B[1;33m:\u001B[0m\u001B[1;33m\u001B[0m\u001B[1;33m\u001B[0m\u001B[0m\n\u001B[1;32m-> 3363\u001B[1;33m                 \u001B[1;32mraise\u001B[0m \u001B[0mKeyError\u001B[0m\u001B[1;33m(\u001B[0m\u001B[0mkey\u001B[0m\u001B[1;33m)\u001B[0m \u001B[1;32mfrom\u001B[0m \u001B[0merr\u001B[0m\u001B[1;33m\u001B[0m\u001B[1;33m\u001B[0m\u001B[0m\n\u001B[0m\u001B[0;32m   3364\u001B[0m \u001B[1;33m\u001B[0m\u001B[0m\n\u001B[0;32m   3365\u001B[0m         \u001B[1;32mif\u001B[0m \u001B[0mis_scalar\u001B[0m\u001B[1;33m(\u001B[0m\u001B[0mkey\u001B[0m\u001B[1;33m)\u001B[0m \u001B[1;32mand\u001B[0m \u001B[0misna\u001B[0m\u001B[1;33m(\u001B[0m\u001B[0mkey\u001B[0m\u001B[1;33m)\u001B[0m \u001B[1;32mand\u001B[0m \u001B[1;32mnot\u001B[0m \u001B[0mself\u001B[0m\u001B[1;33m.\u001B[0m\u001B[0mhasnans\u001B[0m\u001B[1;33m:\u001B[0m\u001B[1;33m\u001B[0m\u001B[1;33m\u001B[0m\u001B[0m\n",
      "\u001B[1;31mKeyError\u001B[0m: 0"
     ]
    }
   ],
   "source": [
    "df[0] "
   ]
  },
  {
   "cell_type": "markdown",
   "metadata": {
    "slideshow": {
     "slide_type": "slide"
    },
    "pycharm": {
     "name": "#%% md\n"
    }
   },
   "source": [
    "Si inspeccionamos y comparamos los tipos del dataframe y de las columnas..."
   ]
  },
  {
   "cell_type": "code",
   "execution_count": 10,
   "metadata": {
    "slideshow": {
     "slide_type": "fragment"
    },
    "pycharm": {
     "name": "#%%\n"
    }
   },
   "outputs": [
    {
     "data": {
      "text/plain": "pandas.core.frame.DataFrame"
     },
     "execution_count": 10,
     "metadata": {},
     "output_type": "execute_result"
    }
   ],
   "source": [
    "type(df)"
   ]
  },
  {
   "cell_type": "code",
   "execution_count": 11,
   "metadata": {
    "slideshow": {
     "slide_type": "fragment"
    },
    "pycharm": {
     "name": "#%%\n"
    }
   },
   "outputs": [
    {
     "data": {
      "text/plain": "pandas.core.indexes.base.Index"
     },
     "execution_count": 11,
     "metadata": {},
     "output_type": "execute_result"
    }
   ],
   "source": [
    "type(df.columns)"
   ]
  },
  {
   "cell_type": "markdown",
   "metadata": {
    "slideshow": {
     "slide_type": "slide"
    },
    "pycharm": {
     "name": "#%% md\n"
    }
   },
   "source": [
    "### Columnas\n",
    "\n",
    "Podemos utilizar el nombre de una columna para obtener los datos de dicha columna, tal como lo hacíamos con un diccionario `python`. Veremos dos maneras diferentes de hacerlo:"
   ]
  },
  {
   "cell_type": "code",
   "execution_count": null,
   "metadata": {
    "scrolled": true,
    "slideshow": {
     "slide_type": "fragment"
    },
    "pycharm": {
     "name": "#%%\n"
    }
   },
   "outputs": [],
   "source": [
    "paises = df[\"Country\"] #**\n",
    "print(paises[0:10])"
   ]
  },
  {
   "cell_type": "code",
   "execution_count": null,
   "metadata": {
    "scrolled": true,
    "slideshow": {
     "slide_type": "fragment"
    },
    "pycharm": {
     "name": "#%%\n"
    }
   },
   "outputs": [],
   "source": [
    "df.Country\n",
    "\n",
    "descripcion = df.describe()\n",
    "descripcion.columns\n",
    "resumen = descripcion[\"Total_CO2_emissions\"]\n",
    "print(resumen[0])"
   ]
  },
  {
   "cell_type": "markdown",
   "metadata": {
    "slideshow": {
     "slide_type": "slide"
    },
    "pycharm": {
     "name": "#%% md\n"
    }
   },
   "source": [
    "**¿Qué tipo de datos es una columna?**"
   ]
  },
  {
   "cell_type": "code",
   "execution_count": null,
   "metadata": {
    "slideshow": {
     "slide_type": "fragment"
    },
    "pycharm": {
     "name": "#%%\n"
    }
   },
   "outputs": [],
   "source": [
    "type(df.Country)"
   ]
  },
  {
   "cell_type": "markdown",
   "metadata": {
    "pycharm": {
     "name": "#%% md\n"
    }
   },
   "source": [
    "Las `Series` són la otra estructura básica de Pandas. Las filas y las columnas se estructuran en `Series`, se pueden ver cómo un tipo de lista que solamente puede contener un único tipo de datos, acepta operaciones vectoriales y se puede indexar de manera similar a un diccionario."
   ]
  },
  {
   "cell_type": "markdown",
   "source": [
    "### Filas\n",
    "\n",
    "Así como seleccionamos columnas, podemos seleccionar información con para obtener filas. Para realizar la consulta de una fila concreta usaremos el atributo `loc` de los dataframes."
   ],
   "metadata": {
    "collapsed": false,
    "pycharm": {
     "name": "#%% md\n"
    }
   }
  },
  {
   "cell_type": "code",
   "execution_count": 15,
   "outputs": [
    {
     "name": "stdout",
     "output_type": "stream",
     "text": [
      "Country                           Afghanistan\n",
      "CountryID                                   1\n",
      "Continent                                   1\n",
      "Adolescent fertility rate (%)           151.0\n",
      "Adult literacy rate (%)                  28.0\n",
      "                                     ...     \n",
      "Under_five_mortality_from_IHME          231.9\n",
      "Under_five_mortality_rate               257.0\n",
      "Urban_population                    5740436.0\n",
      "Urban_population_growth                  5.44\n",
      "Urban_population_pct_of_total            22.9\n",
      "Name: 0, Length: 358, dtype: object\n"
     ]
    }
   ],
   "source": [
    "print(df.loc[0])"
   ],
   "metadata": {
    "collapsed": false,
    "pycharm": {
     "name": "#%%\n"
    }
   }
  },
  {
   "cell_type": "markdown",
   "source": [
    "Si lo que necesitamos es obtener son los valores, necesitaremos el atributo `values`:"
   ],
   "metadata": {
    "collapsed": false,
    "pycharm": {
     "name": "#%% md\n"
    }
   }
  },
  {
   "cell_type": "code",
   "execution_count": 14,
   "outputs": [
    {
     "data": {
      "text/plain": "array(['Afghanistan', 1, 1, 151.0, 28.0, nan, nan, nan, 26088.0, 4.0,\n       23.0, nan, 16.0, 4.0, 47.0, 6.0, 7.2, nan, nan, nan, 14.0, nan,\n       nan, nan, nan, nan, nan, 10.3, 73.0, 70.0, 83.0, 83.0, nan, 66.0,\n       90.0, nan, nan, nan, nan, nan, 20.1, 27.5, 4.4, 4.0, nan, nan,\n       900.0, nan, nan, 14930.0, nan, 900.0, 5970.0, 5.0, nan, 97.2, 8.0,\n       6.0, 29.0, 23.0, nan, 2.0, 72.5, 0.0, nan, 2.5, 0.0, 5.4, nan, nan,\n       nan, nan, nan, nan, nan, nan, nan, nan, nan, nan, nan, nan, nan,\n       nan, nan, nan, nan, nan, nan, nan, nan, nan, nan, nan, nan, nan,\n       nan, nan, nan, nan, nan, nan, nan, nan, 473.0, 443.0, 500.0, 153.0,\n       706.0, 134.0, 1269.0, 18.9, 0.3, 1.1, 1.0, 5.9, 26.0, 22.1, 24.8,\n       10.0, 32.0, 0.0, 36.0, 36.0, 35.0, 161.0, 165.0, 154.0, 176.0,\n       42.0, 43.0, 42.0, 1800.0, 60.0, 16.0, 100.0, 231.0, 257.0, 254.0,\n       260.0, 76.0, 6.0, 18.0, 4.6, 59.3, 32.9, nan, 0.01, nan, nan, 17.0,\n       22.0, 37.0, 25.0, 30.0, 45.0, nan, nan, nan, nan, 9.8, 3.2, 13.1,\n       nan, nan, nan, nan, 58.35, 36.1, nan, 108.83, 2750000000.0, 168.0,\n       87.0, 42.29, 0.0, 28000000.0, 2.9, 14.3, 11.7, 26.8, 874.0, 2021.0,\n       220.0, 0.000878, 0.02, 0.04, 62300000000.0, 4.0, 600000.0, nan,\n       3.6, 6.9, 254.0, 511.0, 96.8, nan, nan, 1792633.0, 7.07, nan, nan,\n       nan, nan, 3.3, 2.8, 5.2, 4.5, 193.0, 236.0, 316.0, 377.0, nan,\n       10.3, 33.0, nan, -7.0, nan, nan, nan, nan, nan, nan, nan, 12.43,\n       nan, nan, nan, nan, 5.19, 0.0, nan, 8670.0, 25.05, nan, 20.0, 4.16,\n       1.04, 3.3, 20.0, 5.2, nan, nan, nan, 55.66, nan, 49.0, 39.0, nan,\n       874.0, nan, 24.48, nan, 165.0, 76.0, 40.0, 90.0, 11.9, 1.0, 43.4,\n       12.59, 43.14, 28.0, 18.39, 50.81, 34.26, 3.5, 2.3, 3.7, 2.5, 147.0,\n       218.0, 155.0, 233.0, 11.3, 2.7, 12.2, 2.9, 173.0, 675.0, 190.0,\n       732.0, nan, nan, nan, nan, 1900.0, nan, nan, 64.0, 0.19, 39.42,\n       9.93, nan, nan, nan, nan, nan, nan, nan, nan, nan, 8242.0, 66826.0,\n       nan, nan, nan, nan, nan, nan, 717.04, nan, nan, nan, nan, nan, nan,\n       nan, nan, 29900000.0, nan, nan, 37.73, nan, nan, nan, nan, 2.8,\n       4.5, 151.0, 249.0, 0.68, 55.57, 36.2, 23.66, 3.14, 39.42, 15.8,\n       8.3, 18.5, 9.7, 499.0, 936.0, 592.0, 1108.0, nan, 652090.0, nan,\n       692.5, nan, nan, nan, 257.0, 231.9, 257.0, 5740436.0, 5.44, 22.9],\n      dtype=object)"
     },
     "execution_count": 14,
     "metadata": {},
     "output_type": "execute_result"
    }
   ],
   "source": [
    "df.loc[0].values"
   ],
   "metadata": {
    "collapsed": false,
    "pycharm": {
     "name": "#%%\n"
    }
   }
  },
  {
   "cell_type": "markdown",
   "source": [
    "#### Selección de filas con slicing\n",
    "\n",
    "Utilizando el atributo `loc` del dataframe podemos seleccionar y filtrar las filas utilizando los _slicing_ típicos de `Python`.\n",
    "\n",
    "Recordemos el _slicing_:\n",
    "```{python}\n",
    "sublista = lista[start:stop:step]\n",
    "```\n",
    "\n",
    "Dónde:\n",
    "* **start**: Posición de la lista original dónde empieza la sublista. Si no se indica és 0.\n",
    "* **stop**:  Posición de la lista original hasta donde seleccionar. Se selecciona hasta la posición stop - 1.\n",
    "* **step**:  Incremento entre cada índice de la selección, por defecto 1."
   ],
   "metadata": {
    "collapsed": false,
    "pycharm": {
     "name": "#%% md\n"
    }
   }
  },
  {
   "cell_type": "markdown",
   "source": [
    "Si entendemos el concepto para un array..."
   ],
   "metadata": {
    "collapsed": false,
    "pycharm": {
     "name": "#%% md\n"
    }
   }
  },
  {
   "cell_type": "code",
   "execution_count": null,
   "outputs": [],
   "source": [
    "array =[1,2,3,4,5,6,7,9,0]\n",
    "print(array[0:2]) #**\n",
    "print(array[3:]) #**\n",
    "print(array[:3]) #**"
   ],
   "metadata": {
    "collapsed": false,
    "pycharm": {
     "name": "#%%\n"
    }
   }
  },
  {
   "cell_type": "markdown",
   "source": [
    "... podemos hacer las mismas operaciones con las filas de un DataFrame."
   ],
   "metadata": {
    "collapsed": false,
    "pycharm": {
     "name": "#%% md\n"
    }
   }
  },
  {
   "cell_type": "code",
   "execution_count": null,
   "outputs": [],
   "source": [
    "df.loc[4:10:2]"
   ],
   "metadata": {
    "collapsed": false,
    "pycharm": {
     "name": "#%%\n"
    }
   }
  },
  {
   "cell_type": "code",
   "execution_count": null,
   "outputs": [],
   "source": [
    "df.loc[200:]  #**"
   ],
   "metadata": {
    "collapsed": false,
    "pycharm": {
     "name": "#%%\n"
    }
   }
  },
  {
   "cell_type": "markdown",
   "source": [
    "### Selección de filas y columnas\n",
    "\n",
    "Si seguimos con la misma lógica, usando el atributo `loc` de los _DataFrames_."
   ],
   "metadata": {
    "collapsed": false,
    "pycharm": {
     "name": "#%% md\n"
    }
   }
  },
  {
   "cell_type": "code",
   "execution_count": null,
   "outputs": [],
   "source": [
    "df.loc[0:1]"
   ],
   "metadata": {
    "collapsed": false,
    "pycharm": {
     "name": "#%%\n"
    }
   }
  },
  {
   "cell_type": "markdown",
   "source": [
    "Las columnas se deben seleccionar con una **lista** que debe contener el nombre de las columnas deseadas."
   ],
   "metadata": {
    "collapsed": false,
    "pycharm": {
     "name": "#%% md\n"
    }
   }
  },
  {
   "cell_type": "code",
   "execution_count": null,
   "outputs": [],
   "source": [
    "df.loc[0:1,[\"Continent\"]]"
   ],
   "metadata": {
    "collapsed": false,
    "pycharm": {
     "name": "#%%\n"
    }
   }
  },
  {
   "cell_type": "code",
   "execution_count": null,
   "outputs": [],
   "source": [
    "df.loc[0:3,[\"Continent\",\"Total_CO2_emissions\"]]"
   ],
   "metadata": {
    "collapsed": false,
    "pycharm": {
     "name": "#%%\n"
    }
   }
  },
  {
   "cell_type": "markdown",
   "source": [
    "Alternativamente, con el atributo _iloc_ podemos seleccionar las columnas con su índice numérico: su posicion en la lista de columnas."
   ],
   "metadata": {
    "collapsed": false,
    "pycharm": {
     "name": "#%% md\n"
    }
   }
  },
  {
   "cell_type": "code",
   "execution_count": 17,
   "outputs": [
    {
     "data": {
      "text/plain": "Country                           Afghanistan\nCountryID                                   1\nContinent                                   1\nAdolescent fertility rate (%)           151.0\nAdult literacy rate (%)                  28.0\n                                     ...     \nUnder_five_mortality_from_IHME          231.9\nUnder_five_mortality_rate               257.0\nUrban_population                    5740436.0\nUrban_population_growth                  5.44\nUrban_population_pct_of_total            22.9\nName: 0, Length: 358, dtype: object"
     },
     "execution_count": 17,
     "metadata": {},
     "output_type": "execute_result"
    }
   ],
   "source": [
    "df.iloc[0]"
   ],
   "metadata": {
    "collapsed": false,
    "pycharm": {
     "name": "#%%\n"
    }
   }
  },
  {
   "cell_type": "code",
   "execution_count": 18,
   "outputs": [
    {
     "data": {
      "text/plain": "   Adolescent fertility rate (%)  Adult literacy rate (%)  \\\n0                          151.0                     28.0   \n1                           27.0                     98.7   \n2                            6.0                     69.9   \n3                            NaN                      NaN   \n\n   Gross national income per capita (PPP international $)  \\\n0                                                NaN        \n1                                             6000.0        \n2                                             5940.0        \n3                                                NaN        \n\n   Net primary school enrolment ratio female (%)  \n0                                            NaN  \n1                                           93.0  \n2                                           94.0  \n3                                           83.0  ",
      "text/html": "<div>\n<style scoped>\n    .dataframe tbody tr th:only-of-type {\n        vertical-align: middle;\n    }\n\n    .dataframe tbody tr th {\n        vertical-align: top;\n    }\n\n    .dataframe thead th {\n        text-align: right;\n    }\n</style>\n<table border=\"1\" class=\"dataframe\">\n  <thead>\n    <tr style=\"text-align: right;\">\n      <th></th>\n      <th>Adolescent fertility rate (%)</th>\n      <th>Adult literacy rate (%)</th>\n      <th>Gross national income per capita (PPP international $)</th>\n      <th>Net primary school enrolment ratio female (%)</th>\n    </tr>\n  </thead>\n  <tbody>\n    <tr>\n      <th>0</th>\n      <td>151.0</td>\n      <td>28.0</td>\n      <td>NaN</td>\n      <td>NaN</td>\n    </tr>\n    <tr>\n      <th>1</th>\n      <td>27.0</td>\n      <td>98.7</td>\n      <td>6000.0</td>\n      <td>93.0</td>\n    </tr>\n    <tr>\n      <th>2</th>\n      <td>6.0</td>\n      <td>69.9</td>\n      <td>5940.0</td>\n      <td>94.0</td>\n    </tr>\n    <tr>\n      <th>3</th>\n      <td>NaN</td>\n      <td>NaN</td>\n      <td>NaN</td>\n      <td>83.0</td>\n    </tr>\n  </tbody>\n</table>\n</div>"
     },
     "execution_count": 18,
     "metadata": {},
     "output_type": "execute_result"
    }
   ],
   "source": [
    "df.iloc[0:4, 3:7] # ídem a una matriz"
   ],
   "metadata": {
    "collapsed": false,
    "pycharm": {
     "name": "#%%\n"
    }
   }
  },
  {
   "cell_type": "code",
   "execution_count": 19,
   "outputs": [
    {
     "data": {
      "text/plain": "'Afghanistan'"
     },
     "execution_count": 19,
     "metadata": {},
     "output_type": "execute_result"
    }
   ],
   "source": [
    "df.iloc[0][0]"
   ],
   "metadata": {
    "collapsed": false,
    "pycharm": {
     "name": "#%%\n"
    }
   }
  },
  {
   "cell_type": "code",
   "execution_count": 20,
   "outputs": [
    {
     "data": {
      "text/plain": "Country                          Afghanistan\nCountryID                                  1\nContinent                                  1\nAdolescent fertility rate (%)          151.0\nName: 0, dtype: object"
     },
     "execution_count": 20,
     "metadata": {},
     "output_type": "execute_result"
    }
   ],
   "source": [
    "df.iloc[0][0:4]"
   ],
   "metadata": {
    "collapsed": false,
    "pycharm": {
     "name": "#%%\n"
    }
   }
  },
  {
   "cell_type": "code",
   "execution_count": 21,
   "outputs": [
    {
     "data": {
      "text/plain": "array(['Afghanistan', 1, 1, 151.0], dtype=object)"
     },
     "execution_count": 21,
     "metadata": {},
     "output_type": "execute_result"
    }
   ],
   "source": [
    "df.iloc[0][0:4].values"
   ],
   "metadata": {
    "collapsed": false,
    "pycharm": {
     "name": "#%%\n"
    }
   }
  },
  {
   "cell_type": "code",
   "execution_count": 16,
   "outputs": [
    {
     "data": {
      "text/plain": "'Afghanistan'"
     },
     "execution_count": 16,
     "metadata": {},
     "output_type": "execute_result"
    }
   ],
   "source": [
    "df.iloc[0][0:4].values[0]"
   ],
   "metadata": {
    "collapsed": false,
    "pycharm": {
     "name": "#%%\n"
    }
   }
  },
  {
   "cell_type": "code",
   "execution_count": null,
   "outputs": [],
   "source": [],
   "metadata": {
    "collapsed": false,
    "pycharm": {
     "name": "#%%\n"
    }
   }
  },
  {
   "cell_type": "markdown",
   "source": [
    "### Selección lógica\n",
    "\n",
    "Además de la selección con base a índices, lo interesante es realizar selecciones mediante condiciones lógicas que permiten filtrar las filas del dataset. Si queremos obtener el país con el valor de emisiones de CO2 más alto:\n"
   ],
   "metadata": {
    "collapsed": false,
    "pycharm": {
     "name": "#%% md\n"
    }
   }
  },
  {
   "cell_type": "code",
   "execution_count": 23,
   "outputs": [
    {
     "data": {
      "text/plain": "pandas.core.frame.DataFrame"
     },
     "execution_count": 23,
     "metadata": {},
     "output_type": "execute_result"
    }
   ],
   "source": [
    "co2 = df[\"Total_CO2_emissions\"]\n",
    "row = df[co2 == co2.max()]  # Esto es una condición dentro de la selección\n",
    "type(row)"
   ],
   "metadata": {
    "collapsed": false,
    "pycharm": {
     "name": "#%%\n"
    }
   }
  },
  {
   "cell_type": "markdown",
   "source": [
    "La variable `row` contiene la fila con el valor máximo en la columna  `Total_CO2_emissions`. Ahora podemos seleccionar diferentes columnas/valores de esta fila:"
   ],
   "metadata": {
    "collapsed": false,
    "pycharm": {
     "name": "#%% md\n"
    }
   }
  },
  {
   "cell_type": "code",
   "execution_count": 24,
   "outputs": [
    {
     "name": "stdout",
     "output_type": "stream",
     "text": [
      "192    5776431.5\n",
      "Name: Total_CO2_emissions, dtype: float64\n",
      "192    United States of America\n",
      "Name: Country, dtype: object\n"
     ]
    }
   ],
   "source": [
    "print(row[\"Total_CO2_emissions\"])\n",
    "print(row[\"Country\"])"
   ],
   "metadata": {
    "collapsed": false,
    "pycharm": {
     "name": "#%%\n"
    }
   }
  },
  {
   "cell_type": "code",
   "execution_count": 25,
   "outputs": [
    {
     "data": {
      "text/plain": "192    United States of America\nName: Country, dtype: object"
     },
     "execution_count": 25,
     "metadata": {},
     "output_type": "execute_result"
    }
   ],
   "source": [
    "#Los valores del objeto son una lista\n",
    "row[\"Country\"]"
   ],
   "metadata": {
    "collapsed": false,
    "pycharm": {
     "name": "#%%\n"
    }
   }
  },
  {
   "cell_type": "code",
   "execution_count": 26,
   "outputs": [
    {
     "data": {
      "text/plain": "array(['United States of America'], dtype=object)"
     },
     "execution_count": 26,
     "metadata": {},
     "output_type": "execute_result"
    }
   ],
   "source": [
    "row[\"Country\"].values"
   ],
   "metadata": {
    "collapsed": false,
    "pycharm": {
     "name": "#%%\n"
    }
   }
  },
  {
   "cell_type": "code",
   "execution_count": 27,
   "outputs": [
    {
     "name": "stdout",
     "output_type": "stream",
     "text": [
      "El pais mas contaminante es: United States of America\n"
     ]
    }
   ],
   "source": [
    "print(\"El pais mas contaminante es: \" + row[\"Country\"].values[0])"
   ],
   "metadata": {
    "collapsed": false,
    "pycharm": {
     "name": "#%%\n"
    }
   }
  },
  {
   "cell_type": "markdown",
   "metadata": {
    "slideshow": {
     "slide_type": "slide"
    },
    "pycharm": {
     "name": "#%% md\n"
    }
   },
   "source": [
    "### Síntesis de información\n",
    "\n",
    "Con una sola línea de código podemos generar la siguiente información:"
   ]
  },
  {
   "cell_type": "code",
   "execution_count": null,
   "metadata": {
    "slideshow": {
     "slide_type": "fragment"
    },
    "pycharm": {
     "name": "#%%\n"
    }
   },
   "outputs": [],
   "source": [
    "print(\"Valor medio de %s = %f \" %(df.columns[3], df[df.columns[3]].mean()))\n",
    "print(\"Valor medio de \" +  df.columns[3] + \" = \" + str(df[df.columns[3]].mean())) #(df.columns[3], df[df.columns[3]].mean()))"
   ]
  },
  {
   "cell_type": "code",
   "execution_count": null,
   "metadata": {
    "scrolled": true,
    "slideshow": {
     "slide_type": "fragment"
    },
    "pycharm": {
     "name": "#%%\n"
    }
   },
   "outputs": [],
   "source": [
    "print(df.columns[3]) # nombre columna"
   ]
  },
  {
   "cell_type": "code",
   "execution_count": null,
   "metadata": {
    "pycharm": {
     "name": "#%%\n"
    }
   },
   "outputs": [],
   "source": [
    "print(df[df.columns[3]]) # Serie de los datos de la columna"
   ]
  },
  {
   "cell_type": "markdown",
   "metadata": {
    "pycharm": {
     "name": "#%% md\n"
    }
   },
   "source": [
    "###### ¿Cómo consultarias la serie de la columna \"Total_reserves\"?"
   ]
  },
  {
   "cell_type": "code",
   "execution_count": null,
   "metadata": {
    "pycharm": {
     "name": "#%%\n"
    }
   },
   "outputs": [],
   "source": [
    "reservas = df.Total_reserves"
   ]
  },
  {
   "cell_type": "markdown",
   "metadata": {
    "slideshow": {
     "slide_type": "slide"
    },
    "pycharm": {
     "name": "#%% md\n"
    }
   },
   "source": [
    "\n",
    "Sobre las series se puede sintetizar información\n"
   ]
  },
  {
   "cell_type": "code",
   "execution_count": null,
   "metadata": {
    "pycharm": {
     "name": "#%%\n"
    }
   },
   "outputs": [],
   "source": [
    "fertilidad = df[df.columns[3]]\n",
    "print(\"Minimo %f \" %fertilidad.min())\n",
    "print(\"Max %f \" %fertilidad.max())\n",
    "print(\"Mean %f \" %fertilidad.mean())\n",
    "print(\"Descripción de la serie:\\n%s \" %fertilidad.describe())"
   ]
  },
  {
   "cell_type": "markdown",
   "metadata": {
    "slideshow": {
     "slide_type": "slide"
    },
    "pycharm": {
     "name": "#%% md\n"
    }
   },
   "source": [
    "## Tabla con las funciones descriptivas\n",
    "<img src=\"https://i.imgur.com/OYnOFwL.png\">"
   ]
  },
  {
   "cell_type": "markdown",
   "metadata": {
    "slideshow": {
     "slide_type": "slide"
    },
    "pycharm": {
     "name": "#%% md\n"
    }
   },
   "source": [
    "# Ejercicios"
   ]
  },
  {
   "cell_type": "markdown",
   "metadata": {
    "pycharm": {
     "name": "#%% md\n"
    }
   },
   "source": [
    "**1) ¿Cuál és la media de la población urbana (\"Urban_population\") de todos los países? ¿Su desviación típica (std)?**"
   ]
  },
  {
   "cell_type": "code",
   "execution_count": null,
   "metadata": {
    "pycharm": {
     "name": "#%%\n"
    }
   },
   "outputs": [],
   "source": []
  },
  {
   "cell_type": "markdown",
   "metadata": {
    "pycharm": {
     "name": "#%% md\n"
    }
   },
   "source": [
    "**2) Consulta la fila del país: “Spain”**"
   ]
  },
  {
   "cell_type": "code",
   "execution_count": null,
   "metadata": {
    "pycharm": {
     "name": "#%%\n"
    }
   },
   "outputs": [],
   "source": []
  },
  {
   "cell_type": "markdown",
   "metadata": {
    "pycharm": {
     "name": "#%% md\n"
    }
   },
   "source": [
    "**3a) ¿Qué país tiene una mayor población urbana?**"
   ]
  },
  {
   "cell_type": "markdown",
   "metadata": {
    "pycharm": {
     "name": "#%% md\n"
    }
   },
   "source": [
    "**3b) ¿Qué paises tienen una población urbana menor a 50000 ?**"
   ]
  },
  {
   "cell_type": "code",
   "execution_count": null,
   "metadata": {
    "pycharm": {
     "name": "#%%\n"
    }
   },
   "outputs": [],
   "source": []
  },
  {
   "cell_type": "markdown",
   "metadata": {
    "pycharm": {
     "name": "#%% md\n"
    }
   },
   "source": [
    "**4) ¿El continente donde está situado Spain es el mismo que el de UnitedStates?**\n",
    "\n",
    "Utiliza una condición para obtener un resultado Booleano (*True* o *False*)"
   ]
  },
  {
   "cell_type": "markdown",
   "metadata": {
    "pycharm": {
     "name": "#%% md\n"
    }
   },
   "source": [
    "**5) ¿Cuáles son los cinco paises más contaminantes (\"Total_CO2_emissions\")?**\n",
    "\n",
    "Esta es mi pista para una solución elegante: http://pandas.pydata.org/pandas-docs/version/0.19.2/generated/pandas.DataFrame.sort_values.html"
   ]
  },
  {
   "cell_type": "markdown",
   "metadata": {
    "pycharm": {
     "name": "#%% md\n"
    }
   },
   "source": [
    "**6) Observando algunas muestras del fichero puedes establecer la relación entre el identificador del continente y su nombre?**\n",
    "\n",
    "Es decir, sabemos que Spain está en el continente Europeo y el código del continente es el 2. \n",
    "\n",
    "Existen los códigos de continentes: 1, 2, 3, 4, 5, 6, 7\n",
    "\n",
    "**Nota:** Hay dos códigos asociados a Asia.\n",
    "\n",
    "Haz las consultas pertinentes al dataframe para construir un diccionario con la siguiente estructura:"
   ]
  },
  {
   "cell_type": "code",
   "execution_count": null,
   "metadata": {
    "pycharm": {
     "name": "#%%\n"
    }
   },
   "outputs": [],
   "source": [
    "codigoContinentes = {1:\"Asia\",2:\"Europa\"} #Al menos hay 7!\n",
    "print(codigoContinentes[2])"
   ]
  },
  {
   "cell_type": "code",
   "execution_count": null,
   "metadata": {
    "pycharm": {
     "name": "#%%\n"
    }
   },
   "outputs": [],
   "source": [
    "codigoContinentes[3] = \"\"\n",
    "codigoContinentes[4] = \"\"\n",
    "codigoContinentes[5] = \"\"\n",
    "codigoContinentes[6] = \"\"\n",
    "codigoContinentes[7] = \"\""
   ]
  },
  {
   "cell_type": "markdown",
   "metadata": {
    "pycharm": {
     "name": "#%% md\n"
    }
   },
   "source": [
    "**7) Una vez identificado el nombre de los continentes, ¿puedes cambiar la columna de identificadores de continentes por sus respectivos nombres?**\n",
    "\n",
    "Esta es es mi pista para una solución elegante: http://pandas.pydata.org/pandas-docs/stable/generated/pandas.Series.map.html"
   ]
  },
  {
   "cell_type": "markdown",
   "metadata": {
    "pycharm": {
     "name": "#%% md\n"
    }
   },
   "source": [
    "**8) Puedes crear un nuevo dataframe con aquellos paises que sean de Europa?**\n"
   ]
  },
  {
   "cell_type": "code",
   "execution_count": null,
   "metadata": {
    "pycharm": {
     "name": "#%%\n"
    }
   },
   "outputs": [],
   "source": [
    "df2 = df #Con una simple asignación ya creas una dataframe \n",
    "type(df2)"
   ]
  },
  {
   "cell_type": "markdown",
   "metadata": {
    "pycharm": {
     "name": "#%% md\n"
    }
   },
   "source": [
    "**9) ¿Cuáles son los paises más contaminantes de Europa?**\n",
    "\n",
    "Propuesta A: usa el dataframe inicial"
   ]
  },
  {
   "cell_type": "code",
   "execution_count": null,
   "metadata": {
    "pycharm": {
     "name": "#%%\n"
    }
   },
   "outputs": [],
   "source": []
  },
  {
   "cell_type": "markdown",
   "metadata": {
    "pycharm": {
     "name": "#%% md\n"
    }
   },
   "source": [
    "Propuesta B: usa el dataframe de la actividad 8"
   ]
  },
  {
   "cell_type": "code",
   "execution_count": null,
   "metadata": {
    "pycharm": {
     "name": "#%%\n"
    }
   },
   "outputs": [],
   "source": []
  },
  {
   "cell_type": "markdown",
   "metadata": {
    "slideshow": {
     "slide_type": "slide"
    },
    "pycharm": {
     "name": "#%% md\n"
    }
   },
   "source": [
    "### Modificación del _dataframe_\n",
    "\n",
    "Además de realizar selecciones, en algunos momentos necesitaremos incorporar nueva información a nuestras tablas de datos.\n",
    "\n",
    "Vamos a crear un pequeño conjunto para practicar:\n"
   ]
  },
  {
   "cell_type": "code",
   "execution_count": 29,
   "outputs": [
    {
     "data": {
      "text/plain": "             name        type  AvgBill\n0  Foreign Cinema  Restaurant    289.0\n1       Liho Liho  Restaurant    224.0\n2        500 Club         bar     80.5\n3      The Square         bar     25.3",
      "text/html": "<div>\n<style scoped>\n    .dataframe tbody tr th:only-of-type {\n        vertical-align: middle;\n    }\n\n    .dataframe tbody tr th {\n        vertical-align: top;\n    }\n\n    .dataframe thead th {\n        text-align: right;\n    }\n</style>\n<table border=\"1\" class=\"dataframe\">\n  <thead>\n    <tr style=\"text-align: right;\">\n      <th></th>\n      <th>name</th>\n      <th>type</th>\n      <th>AvgBill</th>\n    </tr>\n  </thead>\n  <tbody>\n    <tr>\n      <th>0</th>\n      <td>Foreign Cinema</td>\n      <td>Restaurant</td>\n      <td>289.0</td>\n    </tr>\n    <tr>\n      <th>1</th>\n      <td>Liho Liho</td>\n      <td>Restaurant</td>\n      <td>224.0</td>\n    </tr>\n    <tr>\n      <th>2</th>\n      <td>500 Club</td>\n      <td>bar</td>\n      <td>80.5</td>\n    </tr>\n    <tr>\n      <th>3</th>\n      <td>The Square</td>\n      <td>bar</td>\n      <td>25.3</td>\n    </tr>\n  </tbody>\n</table>\n</div>"
     },
     "execution_count": 29,
     "metadata": {},
     "output_type": "execute_result"
    }
   ],
   "source": [
    "df = pd.DataFrame([('Foreign Cinema', 'Restaurant', 289.0),\n",
    "                   ('Liho Liho', 'Restaurant', 224.0),\n",
    "                   ('500 Club', 'bar', 80.5),\n",
    "                   ('The Square', 'bar', 25.30)],\n",
    "           columns=('name', 'type', 'AvgBill')\n",
    "                 )\n",
    "df"
   ],
   "metadata": {
    "collapsed": false,
    "pycharm": {
     "name": "#%%\n"
    }
   }
  },
  {
   "cell_type": "markdown",
   "source": [
    "#### Añadir columnas\n",
    "\n",
    "Tenemos diversas maneras de añadir columnas a un _dataFrame_:\n",
    "\n",
    "- Mediante el nombre de la columna que queremos añadir, tal como añadimos una nueva clave a un diccionario.\n",
    "- `insert`: es un método que necesita 3 parámetros. La posición en la que queremos añadir la columna (`loc`), su nombre (´column´) y la lista de valores (`value`).\n",
    "- `assign`: muy similar a la anterior, pero permite añadir múltiples columnas.\n",
    "- `concat`: no se suele usar para concatenar columnas, en el caso que queramos usarlo para este caso, deberemos poner el parámetro `axis=1`.\n",
    "\n",
    "Veamos algunos ejemplos:"
   ],
   "metadata": {
    "collapsed": false,
    "pycharm": {
     "name": "#%% md\n"
    }
   }
  },
  {
   "cell_type": "code",
   "execution_count": 30,
   "outputs": [
    {
     "data": {
      "text/plain": "             name        type  AvgBill     Day\n0  Foreign Cinema  Restaurant    289.0  Monday\n1       Liho Liho  Restaurant    224.0  Monday\n2        500 Club         bar     80.5  Monday\n3      The Square         bar     25.3  Monday",
      "text/html": "<div>\n<style scoped>\n    .dataframe tbody tr th:only-of-type {\n        vertical-align: middle;\n    }\n\n    .dataframe tbody tr th {\n        vertical-align: top;\n    }\n\n    .dataframe thead th {\n        text-align: right;\n    }\n</style>\n<table border=\"1\" class=\"dataframe\">\n  <thead>\n    <tr style=\"text-align: right;\">\n      <th></th>\n      <th>name</th>\n      <th>type</th>\n      <th>AvgBill</th>\n      <th>Day</th>\n    </tr>\n  </thead>\n  <tbody>\n    <tr>\n      <th>0</th>\n      <td>Foreign Cinema</td>\n      <td>Restaurant</td>\n      <td>289.0</td>\n      <td>Monday</td>\n    </tr>\n    <tr>\n      <th>1</th>\n      <td>Liho Liho</td>\n      <td>Restaurant</td>\n      <td>224.0</td>\n      <td>Monday</td>\n    </tr>\n    <tr>\n      <th>2</th>\n      <td>500 Club</td>\n      <td>bar</td>\n      <td>80.5</td>\n      <td>Monday</td>\n    </tr>\n    <tr>\n      <th>3</th>\n      <td>The Square</td>\n      <td>bar</td>\n      <td>25.3</td>\n      <td>Monday</td>\n    </tr>\n  </tbody>\n</table>\n</div>"
     },
     "execution_count": 30,
     "metadata": {},
     "output_type": "execute_result"
    }
   ],
   "source": [
    "df['Day'] = \"Monday\" # Como un diccionario\n",
    "df"
   ],
   "metadata": {
    "collapsed": false,
    "pycharm": {
     "name": "#%%\n"
    }
   }
  },
  {
   "cell_type": "code",
   "execution_count": 31,
   "outputs": [
    {
     "data": {
      "text/plain": "             name        type  AvgBill        Day\n0  Foreign Cinema  Restaurant    289.0     Monday\n1       Liho Liho  Restaurant    224.0    Tuesday\n2        500 Club         bar     80.5  Wednesday\n3      The Square         bar     25.3   Thursday",
      "text/html": "<div>\n<style scoped>\n    .dataframe tbody tr th:only-of-type {\n        vertical-align: middle;\n    }\n\n    .dataframe tbody tr th {\n        vertical-align: top;\n    }\n\n    .dataframe thead th {\n        text-align: right;\n    }\n</style>\n<table border=\"1\" class=\"dataframe\">\n  <thead>\n    <tr style=\"text-align: right;\">\n      <th></th>\n      <th>name</th>\n      <th>type</th>\n      <th>AvgBill</th>\n      <th>Day</th>\n    </tr>\n  </thead>\n  <tbody>\n    <tr>\n      <th>0</th>\n      <td>Foreign Cinema</td>\n      <td>Restaurant</td>\n      <td>289.0</td>\n      <td>Monday</td>\n    </tr>\n    <tr>\n      <th>1</th>\n      <td>Liho Liho</td>\n      <td>Restaurant</td>\n      <td>224.0</td>\n      <td>Tuesday</td>\n    </tr>\n    <tr>\n      <th>2</th>\n      <td>500 Club</td>\n      <td>bar</td>\n      <td>80.5</td>\n      <td>Wednesday</td>\n    </tr>\n    <tr>\n      <th>3</th>\n      <td>The Square</td>\n      <td>bar</td>\n      <td>25.3</td>\n      <td>Thursday</td>\n    </tr>\n  </tbody>\n</table>\n</div>"
     },
     "execution_count": 31,
     "metadata": {},
     "output_type": "execute_result"
    }
   ],
   "source": [
    "df['Day'] = ['Monday', 'Tuesday', 'Wednesday', 'Thursday']\n",
    "df"
   ],
   "metadata": {
    "collapsed": false,
    "pycharm": {
     "name": "#%%\n"
    }
   }
  },
  {
   "cell_type": "code",
   "execution_count": 32,
   "outputs": [
    {
     "data": {
      "text/plain": "             name  Stars        type  AvgBill        Day\n0  Foreign Cinema      2  Restaurant    289.0     Monday\n1       Liho Liho      2  Restaurant    224.0    Tuesday\n2        500 Club      3         bar     80.5  Wednesday\n3      The Square      4         bar     25.3   Thursday",
      "text/html": "<div>\n<style scoped>\n    .dataframe tbody tr th:only-of-type {\n        vertical-align: middle;\n    }\n\n    .dataframe tbody tr th {\n        vertical-align: top;\n    }\n\n    .dataframe thead th {\n        text-align: right;\n    }\n</style>\n<table border=\"1\" class=\"dataframe\">\n  <thead>\n    <tr style=\"text-align: right;\">\n      <th></th>\n      <th>name</th>\n      <th>Stars</th>\n      <th>type</th>\n      <th>AvgBill</th>\n      <th>Day</th>\n    </tr>\n  </thead>\n  <tbody>\n    <tr>\n      <th>0</th>\n      <td>Foreign Cinema</td>\n      <td>2</td>\n      <td>Restaurant</td>\n      <td>289.0</td>\n      <td>Monday</td>\n    </tr>\n    <tr>\n      <th>1</th>\n      <td>Liho Liho</td>\n      <td>2</td>\n      <td>Restaurant</td>\n      <td>224.0</td>\n      <td>Tuesday</td>\n    </tr>\n    <tr>\n      <th>2</th>\n      <td>500 Club</td>\n      <td>3</td>\n      <td>bar</td>\n      <td>80.5</td>\n      <td>Wednesday</td>\n    </tr>\n    <tr>\n      <th>3</th>\n      <td>The Square</td>\n      <td>4</td>\n      <td>bar</td>\n      <td>25.3</td>\n      <td>Thursday</td>\n    </tr>\n  </tbody>\n</table>\n</div>"
     },
     "execution_count": 32,
     "metadata": {},
     "output_type": "execute_result"
    }
   ],
   "source": [
    "#Vamos a usar el método insert\n",
    "df.insert(loc=1, column=\"Stars\", value=[2,2,3,4])\n",
    "df"
   ],
   "metadata": {
    "collapsed": false,
    "pycharm": {
     "name": "#%%\n"
    }
   }
  },
  {
   "cell_type": "code",
   "execution_count": 33,
   "outputs": [
    {
     "data": {
      "text/plain": "             name  Stars        type  AvgBill        Day  AvgHalfBill  \\\n0  Foreign Cinema      2  Restaurant    289.0     Monday       144.50   \n1       Liho Liho      2  Restaurant    224.0    Tuesday       112.00   \n2        500 Club      3         bar     80.5  Wednesday        40.25   \n3      The Square      4         bar     25.3   Thursday        12.65   \n\n   Michelin_Star  \n0              3  \n1              3  \n2              3  \n3              3  ",
      "text/html": "<div>\n<style scoped>\n    .dataframe tbody tr th:only-of-type {\n        vertical-align: middle;\n    }\n\n    .dataframe tbody tr th {\n        vertical-align: top;\n    }\n\n    .dataframe thead th {\n        text-align: right;\n    }\n</style>\n<table border=\"1\" class=\"dataframe\">\n  <thead>\n    <tr style=\"text-align: right;\">\n      <th></th>\n      <th>name</th>\n      <th>Stars</th>\n      <th>type</th>\n      <th>AvgBill</th>\n      <th>Day</th>\n      <th>AvgHalfBill</th>\n      <th>Michelin_Star</th>\n    </tr>\n  </thead>\n  <tbody>\n    <tr>\n      <th>0</th>\n      <td>Foreign Cinema</td>\n      <td>2</td>\n      <td>Restaurant</td>\n      <td>289.0</td>\n      <td>Monday</td>\n      <td>144.50</td>\n      <td>3</td>\n    </tr>\n    <tr>\n      <th>1</th>\n      <td>Liho Liho</td>\n      <td>2</td>\n      <td>Restaurant</td>\n      <td>224.0</td>\n      <td>Tuesday</td>\n      <td>112.00</td>\n      <td>3</td>\n    </tr>\n    <tr>\n      <th>2</th>\n      <td>500 Club</td>\n      <td>3</td>\n      <td>bar</td>\n      <td>80.5</td>\n      <td>Wednesday</td>\n      <td>40.25</td>\n      <td>3</td>\n    </tr>\n    <tr>\n      <th>3</th>\n      <td>The Square</td>\n      <td>4</td>\n      <td>bar</td>\n      <td>25.3</td>\n      <td>Thursday</td>\n      <td>12.65</td>\n      <td>3</td>\n    </tr>\n  </tbody>\n</table>\n</div>"
     },
     "execution_count": 33,
     "metadata": {},
     "output_type": "execute_result"
    }
   ],
   "source": [
    "df.assign(AvgHalfBill=lambda x: x.AvgBill / 2, Michelin_Star=3)"
   ],
   "metadata": {
    "collapsed": false,
    "pycharm": {
     "name": "#%%\n"
    }
   }
  },
  {
   "cell_type": "markdown",
   "source": [
    "\n",
    "#### Añadir filas\n",
    "\n",
    "Para añadir filas a un _dataframe_ tenemos dos métodos que realizan la tarea y devuelven un nuevo _dataFrame_:\n",
    "\n",
    "- append: añade una fila a un _dataFrame_. La fila puede ser un diccionario, una `Serie` o otro `Dataframe`. El parámetro `ignore_index = True` significa que se ignorará el índice de la serie o el _dataFrame_ de origen. En su lugar, se utilizará el índice disponible en el _dataFrame_ de destino. El valor `False` significa lo contrario.\n",
    "- concat: concatena dos o más _dataframes_ separados por comas."
   ],
   "metadata": {
    "collapsed": false,
    "pycharm": {
     "name": "#%% md\n"
    }
   }
  }
 ],
 "metadata": {
  "celltoolbar": "Slideshow",
  "kernelspec": {
   "display_name": "Python 3",
   "language": "python",
   "name": "python3"
  },
  "language_info": {
   "codemirror_mode": {
    "name": "ipython",
    "version": 3
   },
   "file_extension": ".py",
   "mimetype": "text/x-python",
   "name": "python",
   "nbconvert_exporter": "python",
   "pygments_lexer": "ipython3",
   "version": "3.7.4"
  }
 },
 "nbformat": 4,
 "nbformat_minor": 1
}