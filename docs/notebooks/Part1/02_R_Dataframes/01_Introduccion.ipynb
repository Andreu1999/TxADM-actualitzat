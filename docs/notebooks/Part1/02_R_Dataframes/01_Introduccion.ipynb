{
 "cells": [
  {
   "cell_type": "markdown",
   "source": [
    "# Dataframes\n",
    "\n",
    "Un _dataframe_ es la forma más común de almacenar datos en R y, en general, es la estructura de datos que se usa con más frecuencia para realiza tareas de análisis de datos. Básicamente, un _dataframe_ es una lista de vectores de igual longitud. Cada elemento de la lista se puede considerar como una columna y la longitud de cada elemento de la lista es el número de filas. Como resultado, los _dataframes_ pueden almacenar diferentes tipos de objetos (datos) en cada columna (es decir, numérico, carácter, factor). En esencia, la manera más fácil de pensar en un _dataframe_ es como una hoja de cálculo tipo _Excel_ que contiene columnas de diferentes tipos de datos, pero todas son filas de igual longitud. Esta estructura de datos nos permite tener varias informaciones de múltiples observaciones.\n",
    "\n",
    "\n",
    "## Creación\n",
    "Existen múltiples formas de construir un _dataframe_,\n",
    "### Desde un archivo\n",
    "\n",
    "### A partir de una colección de vectores\n",
    "\n",
    "Supongamos que tenemos la siguiente colección de vectores con idéntica longitud:\n",
    "\n",
    "```\n",
    "temp <- c(20.37, 18.56, 18.4, 21.96, 29.53, 28.16, 36.38, 36.62, 40.03, 27.59, 22.15, 19.85)\n",
    "humedad <- c(88, 86, 81, 79, 80, 78, 71, 69, 78, 82, 85, 83)\n",
    "precipitaciones <- c(72, 33.9, 37.5, 36.6, 31.0, 16.6, 1.2, 6.8, 36.8, 30.8, 38.5, 22.7)\n",
    "mes <- c(\"enero\", \"febrero\", \"marzo\", \"abril\", \"mayo\", \"junio\", \"julio\", \"agosto\", \"septiembre\", \"octubre\", \"noviembre\", \"diciembre\")\n",
    "```\n",
    "\n",
    "Podemos transformarlos en un _dataframe_ usando la función `data.frame` de la siguiente manera:\n",
    "\n",
    "```\n",
    "meteo = data.frame(mes = mes, temperatura = temp, humedad = humedad, precipitaciones = precipitaciones)\n",
    "```\n",
    "\n",
    "El resultado que obtendremos tras ejecutar esta segunda operación es que habremos almacenado el dataframe en la variable `meteo`\n",
    "\n",
    "### Dataframes preconstruidos\n",
    "\n",
    "\n",
    "\n",
    "## Elementos básicos\n",
    "\n",
    "\n",
    "\n",
    "\n",
    "## Indexación\n",
    "\n",
    "\n",
    "\n",
    "\n",
    "## Datos faltas\n",
    "\n",
    "\n",
    "\n",
    "## Indexación avanzada\n",
    "\n",
    "\n",
    "\n",
    "## Combinación dataframes\n",
    "\n",
    "\n",
    "## Pivot\n",
    "\n",
    "\n",
    "\n",
    "## Series temporales\n",
    "\n",
    "\n"
   ],
   "metadata": {
    "collapsed": false,
    "pycharm": {
     "name": "#%% md\n"
    }
   }
  }
 ],
 "metadata": {
  "kernelspec": {
   "display_name": "Python 3",
   "language": "python",
   "name": "python3"
  },
  "language_info": {
   "codemirror_mode": {
    "name": "ipython",
    "version": 2
   },
   "file_extension": ".py",
   "mimetype": "text/x-python",
   "name": "python",
   "nbconvert_exporter": "python",
   "pygments_lexer": "ipython2",
   "version": "2.7.6"
  }
 },
 "nbformat": 4,
 "nbformat_minor": 0
}