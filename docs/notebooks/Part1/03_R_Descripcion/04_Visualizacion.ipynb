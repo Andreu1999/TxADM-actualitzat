{
 "cells": [
  {
   "cell_type": "markdown",
   "source": [
    "# Visualización\n",
    "\n",
    "Una de las herramientas más potentes que tenemos para mostrar las conclusiones a las que podemos llegar tras realizar un análisis de datos o tras aplicar ciertas transformaciones a nuestros datos brutos es su visualización mediante gráficos. En esta lección exploraremos las posibilidades que nos ofrece la base de **R** mediante la función `plot` y en segundo lugar seguiremos descubriendo las posibilidades que nos ofrece el entorno _tidyverse_ mediante la librería _ggplot2_. Esta librería implementa una gramática de gráficos, un sistema coherente para describir y construir gráficos.\n",
    "\n",
    "\n",
    "## R base\n",
    "\n",
    "El núcleo de **R** provee tres funciones básicas para dibujar gráficos que nos pueden servir para dibujar nuestros primeros gráficos.\n",
    "\n",
    "### Plot\n",
    "\n",
    "Es la función de dibujo más versátil de todas. En el libro [AprendeR](https://aprender-uib.github.io/AprendeR1/chap-plot.html) en concreto el capítulo 7 se dedica solamente a esta función. Nosotros simplemente describiremos su sintaxis más básica y veremos algunos ejemplos.\n",
    "\n",
    "Con la función `plot`, podemos crear una amplia gama de gráficos, según los datos que esta reciba como parámetros. En la siguiente tabla resumimos todas las posibilidades disponibles para la función de trazado base **R**.\n",
    "\n",
    "Esta función tiene un comportamiento especial, pues dependiendo del tipo de dato que le demos como argumento, generará diferentes tipos de gráfica. Además, para cada tipo de gráfico, podremos ajustar diferentes parámetros que controlan su aspecto, dentro de esta misma función.\n",
    "\n",
    "Esta función tiene un argumento `x`, que corresponde al eje X de una gráfica. Este parámetro requiere un vector y si no especificamos este argumento, obtendremos un error. El resto de los argumentos de `plot` son opcionales puedes consultarlo con la expresión `?plot`, pero el más importante es `y` que corresponde al eje Y de nuestra gráfica.\n",
    "\n",
    "Dependiendo del tipo de dato que pasemos como parámetros obtendremos diferentes tipos de gráficos de acuerdo a las siguientes reglas:\n",
    "\n",
    "| Entrada                      | Salida                                                                           |\n",
    "|------------------------------|----------------------------------------------------------------------------------|\n",
    "| plot(x)                      | Diagrama de dispersión de vectores numéricos x                                   |\n",
    "| plot(x,y)                    | Diagrama de dispersión de vectores numéricos x e y                               |\n",
    "| plot(factor)                 | Diagrama de barras del factor                                                    |\n",
    "| plot(factor, y)              | Diagrama de caja del vector numérico y los niveles del factor                    |\n",
    "| plot(time_series)            | Gráfico de la série temporal                                                     |\n",
    "| plot(data_frame)             | Gráfica de correlación de todos columnas de marco de datos (más de dos columnas) |\n",
    "| plot(function, lower, upper) | Gráfico de la función entre el valor lower y el valor upper especificado         |\n",
    "\n",
    "\n"
   ],
   "metadata": {
    "collapsed": false,
    "pycharm": {
     "name": "#%% md\n"
    }
   }
  }
 ],
 "metadata": {
  "kernelspec": {
   "display_name": "Python 3",
   "language": "python",
   "name": "python3"
  },
  "language_info": {
   "codemirror_mode": {
    "name": "ipython",
    "version": 2
   },
   "file_extension": ".py",
   "mimetype": "text/x-python",
   "name": "python",
   "nbconvert_exporter": "python",
   "pygments_lexer": "ipython2",
   "version": "2.7.6"
  }
 },
 "nbformat": 4,
 "nbformat_minor": 0
}