{
 "cells": [
  {
   "cell_type": "markdown",
   "metadata": {
    "pycharm": {
     "name": "#%% md\n"
    }
   },
   "source": [
    "# Series temporales\n",
    "\n",
    "**R** cuenta con numerosas funciones para el análisis de series temporales en esta lección aprenderemos las funciones y estructuras de datos más básicas para su manejo.\n",
    "\n",
    "\n",
    "## El formato de fecha\n",
    "\n",
    "Normalmente cuando cargamos un fichero, el formato de la(s) columna(s) que representan fechas será del tipo carácter (`chr`). Esto significa que **R** lo interpreta como letras y números en lugar de fechas que contienen un valor secuencial.\n",
    "\n",
    "Por este motivo, será necesario convertir las columnas que representan fechas, normalmente almacenadas como _strings_ en un tipo de datos que se pueda mostrar como una variable continua. Como es de esperar, **R** tiene un tipo de datos para representar fechas, podemos realizar esta conversión usando la función `as.Date()`.\n",
    "\n",
    "Cuando ejecutamos la función `as.Date()`, debemos decirle a **R** cómo se formatea la fecha: la posición del mes, el día y el año y en qué formato se encuentra cada elemento.\n",
    "\n",
    "Por ejemplo: 1/11/10 _vs_ 11-1-2010 representan la misma fecha, pero tienen diferente formato. Podemos usar las siguientes designaciones para los componentes de los datos de fecha y hora:\n",
    "\n",
    "- %Y : Año expresado con 4 dígitos.\n",
    "- %y : Año expresado con 2 dígitos.\n",
    "- %m : Mes.\n",
    "- %d - Día.\n",
    "\n",
    "Si queremos expresar las fechas anteriores con un *string* que especifica el formato lo haríamos de la siguiente manera:\n",
    "\n",
    "- 1/11/10 : \"%d/%m/%y\"\n",
    "- 11-1-2010 : \"%m/%d/%Y\"\n",
    "\n",
    "\n",
    "Veamos un ejemplo de transformación de fecha del tipo de datos *string* a fecha, usaremos la función antes mencionada y el parámetro `format` para especificar el formato."
   ]
  },
  {
   "cell_type": "code",
   "execution_count": 3,
   "metadata": {},
   "outputs": [
    {
     "data": {
      "text/html": [
       "<time datetime=\"2010-11-01\">2010-11-01</time>"
      ],
      "text/latex": [
       "2010-11-01"
      ],
      "text/markdown": [
       "2010-11-01"
      ],
      "text/plain": [
       "[1] \"2010-11-01\""
      ]
     },
     "metadata": {},
     "output_type": "display_data"
    }
   ],
   "source": [
    "fecha_str = \"1/11/10\"\n",
    "fecha = as.Date(fecha_str, format=\"%d~%m~%y\")\n",
    "fecha"
   ]
  },
  {
   "cell_type": "markdown",
   "metadata": {},
   "source": [
    "Esta operación también es aplicable a vectores enteros, de esta manera podemos transformar columnas enteras de nuestros _dataframes_."
   ]
  },
  {
   "cell_type": "markdown",
   "source": [
    "\n",
    "## La estructura de datos `ts`\n",
    "\n",
    "El uso de funciones para el análisis de series temporales requiere que los objetos a los que se aplican sean de la clase ts (time series). La función `ts()` convierte un objeto, por ejemplo un vector, al tipo de datos serie temporal.\n",
    "\n",
    "Vamos a usar el conjunto de datos _Daily climate data in the city of Delhi from 2013 to 2017_ que podemos encontrar en la plataforma Kaggle [enlace](https://www.kaggle.com/datasets/sumanthvrao/daily-climate-time-series-data?select=DailyDelhiClimateTrain.csv). Existen 2 ficheros, usaremos aquel llamado:_DailyDelhiClimateTrain.csv_.\n",
    "\n",
    "Vamos a cargarlo:"
   ],
   "metadata": {
    "collapsed": false,
    "pycharm": {
     "name": "#%% md\n"
    }
   }
  },
  {
   "cell_type": "code",
   "execution_count": null,
   "outputs": [],
   "source": [
    "datos = read.csv(\"data/DailyDelhiClimateTrain.csv\")\n",
    "str(datos)"
   ],
   "metadata": {
    "collapsed": false,
    "pycharm": {
     "name": "#%%\n"
    }
   }
  },
  {
   "cell_type": "markdown",
   "source": [
    "Como podemos observar la columna `date"
   ],
   "metadata": {
    "collapsed": false,
    "pycharm": {
     "name": "#%% md\n"
    }
   }
  },
  {
   "cell_type": "markdown",
   "metadata": {},
   "source": [
    "Como podemos observar la columna `date"
   ]
  },
  {
   "cell_type": "markdown",
   "metadata": {},
   "source": [
    "\n",
    "\n",
    "## Recursos\n",
    "\n",
    "- Forecasting: Principles and Practice  [enlace](https://otexts.com/fpp3/)\n",
    "\n",
    "- [enlace]()"
   ]
  }
 ],
 "metadata": {
  "kernelspec": {
   "display_name": "R",
   "language": "R",
   "name": "r"
  },
  "language_info": {
   "codemirror_mode": "r",
   "file_extension": ".r",
   "mimetype": "text/x-r-source",
   "name": "R",
   "pygments_lexer": "r",
   "version": "4.2.1"
  }
 },
 "nbformat": 4,
 "nbformat_minor": 1
}