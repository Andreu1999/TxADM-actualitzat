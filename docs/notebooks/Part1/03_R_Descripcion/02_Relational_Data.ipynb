{
 "cells": [
  {
   "cell_type": "raw",
   "source": [
    "##%% md\n",
    " Datos Relacionales\n",
    "\n",
    "Rara vez en un análisis de datos este involucra una sola tabla de datos. Por lo general, tiene diversas tablas de datos y es necesario combinarlas para responder a nuestras necesidades e intereses. En general, varias tablas de datos se denominan datos relacionales porque son las relaciones, no solo los conjuntos de datos individuales, las que nos proveen de información.\n",
    "\n",
    "Las relaciones siempre se definen entre un par de tablas. Todas las demás relaciones se construyen a partir de esta idea simple: las relaciones de tres o más tablas son siempre una propiedad de las relaciones entre cada par. Es posible que tengamos relaciones dentro de la misma tabla, por ejemplo tenemos una tabla con información relativa a personas y cada una de ellas tiene una referencia a sus padres.\n",
    "\n"
   ],
   "metadata": {
    "collapsed": false,
    "pycharm": {
     "name": ""
    }
   }
  }
 ],
 "metadata": {
  "kernelspec": {
   "display_name": "Python 3",
   "language": "python",
   "name": "python3"
  },
  "language_info": {
   "codemirror_mode": {
    "name": "ipython",
    "version": 2
   },
   "file_extension": ".py",
   "mimetype": "text/x-python",
   "name": "python",
   "nbconvert_exporter": "python",
   "pygments_lexer": "ipython2",
   "version": "2.7.6"
  },
  "pycharm": {
   "stem_cell": {
    "cell_type": "raw",
    "source": [
     "##%% md\n",
     "\n",
     "# Datos Relacionales\n",
     "\n",
     "Rara vez en un análisis de datos este involucra una sola tabla de datos. Por lo general, tiene diversas tablas de\n",
     "datos y es necesario combinarlas para responder a nuestras necesidades e intereses. En general, varias tablas de\n",
     "datos se denominan datos relacionales porque son las relaciones, no solo los conjuntos de datos individuales, las que\n",
     " nos proveen de información.\n",
     "\n",
     "Las relaciones siempre se definen entre un conjunto de dostablas. Todas las demás relaciones se construyen a partir\n",
     " de esta idea simple: las relaciones de tres o más tablas son siempre una propiedad de las relaciones entre cada par. Es\n",
     "posible que tengamos relaciones dentro de la misma tabla, por ejemplo tenemos una tabla con información relativa a\n",
     "personas y cada una de ellas tiene una referencia a sus padres.\n",
     "\n",
     "El lugar más común para encontrar este tipo de datos relacionales son los sistemas de administración de bases de\n",
     "datos relacionales, un término que abarca casi todas las bases de datos modernas. Como ya se ha comentado en este\n",
     "curso, _SQL_ es el lenguaje que se usa para la comunicación con las bases de datos. En **R** tenemos dos maneras de\n",
     "trabajar con este tipo de datos para conseguir _dataframes_: con las funciones del núcleo del lenguaje y con _dplyr_,\n",
     "\n",
     "En general, dplyr es un poco más fácil de usar que SQL porque dplyr está especializado para realizar análisis de\n",
     "datos: facilita las operaciones comunes de análisis de datos, a expensas de dificultar otras cosas que normalmente no\n",
     " necesitaremos para el análisis de datos.\n",
     "\n",
     "Para trabajar con datos relacionales necesitamos operaciones que funcionen con pares de tablas. En _dplyr_ hay tres\n",
     "familias  de verbos diseñados para trabajar con datos relacionales:\n",
     "\n",
     " - **Mutating joins**: que agregan nuevas variables a un _dataframe_ a partir de observaciones coincidentes en otro _dataframe_.\n",
     "\n",
     " - **Filtering joins**: que filtran las observaciones de un _dataframe_ en función de si coinciden o no con\n",
     "  una observación en la otra tabla.\n",
     "\n",
     "  - **Operaciones de conjuntos**: que tratan las observaciones como si fueran elementos de conjunto.\n",
     "\n",
     "## Claves\n",
     "\n",
     "TODO?\n",
     "\n",
     "## Mutating joins\n",
     "\n",
     "El primer bloque de funciones que veremos para poder combinar información de conjunto de tablas es la de los\n",
     "_mutating joins_ . Una combinación de la función `mutate` con la idea de los _joins_  que nos permitirá combinar\n",
     "variables de dos tablas. Primero haremos coincidir las observaciones por sus claves, luego copia las variables de una\n",
     "tabla a otra. Al igual que `mutate`, las funciones de unión agregan variables a la derecha.\n",
     "\n",
     "### Inner Join\n",
     "\n",
     "El tipo más simple de combinación es el _inner join_. Un _inner join_ empareja pares de observaciones que tienen las \n",
     "mismas claves.\n",
     "\n"
    ],
    "metadata": {
     "collapsed": false
    }
   }
  }
 },
 "nbformat": 4,
 "nbformat_minor": 0
}