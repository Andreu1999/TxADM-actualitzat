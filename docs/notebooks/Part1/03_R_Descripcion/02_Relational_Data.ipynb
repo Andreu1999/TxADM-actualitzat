{
 "cells": [
  {
   "cell_type": "raw",
   "source": [
    "##%% md\n",
    " Datos Relacionales\n",
    "\n",
    "Rara vez en un análisis de datos este involucra una sola tabla de datos. Por lo general, tiene diversas tablas de datos y es necesario combinarlas para responder a nuestras necesidades e intereses. En general, varias tablas de datos se denominan datos relacionales porque son las relaciones, no solo los conjuntos de datos individuales, las que nos proveen de información.\n",
    "\n",
    "Las relaciones siempre se definen entre un par de tablas. Todas las demás relaciones se construyen a partir de esta idea simple: las relaciones de tres o más tablas son siempre una propiedad de las relaciones entre cada par. Es posible que tengamos relaciones dentro de la misma tabla, por ejemplo tenemos una tabla con información relativa a personas y cada una de ellas tiene una referencia a sus padres.\n",
    "\n"
   ],
   "metadata": {
    "collapsed": false,
    "pycharm": {
     "name": ""
    }
   }
  }
 ],
 "metadata": {
  "kernelspec": {
   "display_name": "Python 3",
   "language": "python",
   "name": "python3"
  },
  "language_info": {
   "codemirror_mode": {
    "name": "ipython",
    "version": 2
   },
   "file_extension": ".py",
   "mimetype": "text/x-python",
   "name": "python",
   "nbconvert_exporter": "python",
   "pygments_lexer": "ipython2",
   "version": "2.7.6"
  }
 },
 "nbformat": 4,
 "nbformat_minor": 0
}