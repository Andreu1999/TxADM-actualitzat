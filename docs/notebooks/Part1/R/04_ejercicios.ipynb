{
 "cells": [
  {
   "cell_type": "markdown",
   "source": [
    "# Ejercicios de operaciones elementales\n",
    "\n",
    "Puedes realizar estos ejercicios directamente en la consola. La idea es que con ellos consolides los conceptos trabajados hasta este momento: creación de variables y uso de operadores.\n",
    "\n",
    "1. Realizar un conjunto de expresiones en R que nos calcule el índice de masa corporal (IMC) de una persona que mide 2 m i pesa 60 Kg, dado su peso y su altura. Se calcula dividiendo el peso (en cm) entre la altura al cuadrado.\n",
    "2. Realizar un programa que nos calcule el interés simple anual, dado el saldo inicial y el interés anual. También nos interesa saber la ganancia mensual.\n",
    "3. Realizar un programa que nos calcule el total de dinero que debemos pagar con un préstamo con los siguientes datos:\n",
    " Importe inicial = 1000 €, Comisión apertura = 100 €, Interés mensual = 0.01, Duración en meses = 24.\n",
    "4. Si hubiéramos empezado a contar segundos a partir de las 12 campanadas que marcan el inicio de 2014, ¿a qué hora de qué día de qué año llegaríamos a los 250 millones de segundos?\n",
    "5. Realiza el mismo ejercicio que antes contando los años bisiestos.\n",
    "6. Copia las operaciones que has realizado en un _script_ , guárdalo con el nombre _mi_primer_script_. Vuelve a ejecutar las operaciones una a una seleccionandolas en el propio fichero y apretando el botón _Run_.\n",
    "7. Realizar un programa que dados los parámetros: a, b y c. resuelve una ecuación de segundo grado. Ejemplo, la ecuación: 2x 2 + 20x + 3 = 0 debe dar -0.1523201 ; -9.8476799. Para calcular la raíz cuadrada podéis usar la función _sqrt_.\n",
    "\n",
    "Ejemplo de uso de la función:\n",
    "\n",
    "```R\n",
    "> sqrt(4)\n",
    "[1] 2\n",
    "```"
   ],
   "metadata": {
    "collapsed": false,
    "pycharm": {
     "name": "#%% md\n"
    }
   }
  }
 ],
 "metadata": {
  "kernelspec": {
   "display_name": "Python 3",
   "language": "python",
   "name": "python3"
  },
  "language_info": {
   "codemirror_mode": {
    "name": "ipython",
    "version": 2
   },
   "file_extension": ".py",
   "mimetype": "text/x-python",
   "name": "python",
   "nbconvert_exporter": "python",
   "pygments_lexer": "ipython2",
   "version": "2.7.6"
  }
 },
 "nbformat": 4,
 "nbformat_minor": 0
}