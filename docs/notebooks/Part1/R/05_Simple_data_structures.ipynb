{
 "cells": [
  {
   "cell_type": "markdown",
   "metadata": {
    "collapsed": true,
    "pycharm": {
     "name": "#%% md\n"
    }
   },
   "source": [
    "# Datos estructurados\n",
    "\n",
    "Como ya hemos comentado anteriormente en **R** podemos realizar agrupaciones de datos. En concreto, tenemos los\n",
    "vectores, un vector es una secuencia ordenada de datos que comparten el mismo tipo.\n",
    "\n",
    "En este capítulo aprenderemos a construirlos y a usarlos. Este conocimiento nos permitirá usar estructuras más\n",
    "avanzadas:\n",
    "\n",
    "## Creación\n",
    "\n",
    "La sintaxis para crear un vector con una colección de números, por ejemplo: 5,4,2,5,3,7,2,8 es la siguiente:\n",
    "\n",
    "```R\n",
    "> x=c(5,4,2,5,3,7,2,8)\n",
    "> x\n",
    "[1] 5,4,2,5,3,7,2,8\n",
    "```\n",
    "\n",
    "\n",
    "\n",
    "### Cargar datos de un fichero\n",
    "\n",
    "\n",
    "\n",
    "### Creación de patrones\n",
    "\n",
    "\n",
    "## Operaciones\n",
    "\n",
    "\n",
    "### sapply"
   ]
  }
 ],
 "metadata": {
  "kernelspec": {
   "display_name": "Python 3",
   "language": "python",
   "name": "python3"
  },
  "language_info": {
   "codemirror_mode": {
    "name": "ipython",
    "version": 2
   },
   "file_extension": ".py",
   "mimetype": "text/x-python",
   "name": "python",
   "nbconvert_exporter": "python",
   "pygments_lexer": "ipython2",
   "version": "2.7.6"
  }
 },
 "nbformat": 4,
 "nbformat_minor": 0
}