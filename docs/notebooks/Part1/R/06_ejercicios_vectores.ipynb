{
 "cells": [
  {
   "cell_type": "markdown",
   "source": [
    "### Ejercicios con vectores\n",
    "\n",
    "\n",
    "1. Cargar los datos contenidos en crimenUSA.txt\n",
    "2. ¿Cuantos valores tiene? Muestra por pantalla los 5 primeros.\n",
    "3. Ahora muestra los 5 últimos.\n",
    "4. ¿Cuál es el valor medio de este vector? Y su desviación estándar?\n",
    "5. ¿Cuál es el máximo valor en estos datos? ¿Se repite alguna vez? ¿Cuantas?\n",
    "6. ¿Qué porcentaje de estados tienen más de 4810 crímenes?\n",
    "7. Substituye el quinto valor por el valor 2000.\n",
    "8."
   ],
   "metadata": {
    "collapsed": false,
    "pycharm": {
     "name": "#%% md\n"
    }
   }
  }
 ],
 "metadata": {
  "kernelspec": {
   "display_name": "Python 3",
   "language": "python",
   "name": "python3"
  },
  "language_info": {
   "codemirror_mode": {
    "name": "ipython",
    "version": 2
   },
   "file_extension": ".py",
   "mimetype": "text/x-python",
   "name": "python",
   "nbconvert_exporter": "python",
   "pygments_lexer": "ipython2",
   "version": "2.7.6"
  }
 },
 "nbformat": 4,
 "nbformat_minor": 0
}