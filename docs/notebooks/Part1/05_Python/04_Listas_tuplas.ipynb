{
 "cells": [
  {
   "cell_type": "markdown",
   "metadata": {
    "colab_type": "text",
    "id": "J5tT2iow83J2"
   },
   "source": [
    "### Listas\n",
    "Las listas son probablemente la forma de estructurar datos más útiles y versátiles de Python. Una lista es una colección de elementos con las siguientes propiedades:\n",
    "\n",
    "* **Las listas son ordenadas**: Una lista no es solo una colección de objetos. El orden en el que especificamos los elementos cuando construimos una lista es una característica innata de esta construcción y se mantiene durante toda su vida mientras no aplicamos modificaciones.\n",
    "* **Las listas pueden contener cualquier tipo de elemento**: Incluso una colección de elementos de diferentes tipos, aunque no sea una opción demasiado recomendable.\n",
    "* **Se puede acceder a los elementos de la lista mediante un índice**: Se puede acceder a los elementos individuales de una lista mediante un índice que especificaremos entre corchetes después del nombre de la variable. La indexación de la lista comienza en el valor cero.\n",
    "* **Las listas son mutables**: Una vez creada, se pueden añadir, eliminar, cambiar y mover elementos. `Python` ofrece una amplia gama de operaciones que permiten modificar sus listas.\n",
    "\n",
    "Una lista tiene la siguiente forma:\n",
    "\n",
    "```{figure} ../img/lista.png\n",
    ":alt: Una lista\n",
    ":width: 600px\n",
    ":align: centro\n",
    "\n",
    "Apariencia de una lista. TODO: poner referencia.\n",
    "```\n",
    "\n",
    "En lenguaje `Python` una lista se define de la siguiente manera:"
   ]
  },
  {
   "cell_type": "code",
   "execution_count": null,
   "outputs": [],
   "source": [
    "llista = [\"foo\", \"bar\", \"baz\", \"qux\", \"quux\", \"corge\"]\n",
    "\n",
    "print(llista)"
   ],
   "metadata": {
    "collapsed": false
   }
  },
  {
   "cell_type": "markdown",
   "source": [
    "### Creación de una lista\n",
    "\n",
    "Una lista vacía se puede crear de dos formas, usando una función llamada `list`:\n",
    "```\n",
    "ll = list()\n",
    "```\n",
    "La manera explícita que consiste en poner los dos corchetes sin ningún elemento:\n",
    "```\n",
    "lista2 = []\n",
    "```\n",
    "Las listas pueden tener un número muy grande, pero finito de elementos, tantos como la memoria del ordenador en el que estamos trabajando nos permita, o como hemos explicado antes de no tener ningún elemento, con lo que conseguimos una lista vacía."
   ],
   "metadata": {
    "collapsed": false
   }
  },
  {
   "cell_type": "code",
   "execution_count": 7,
   "outputs": [
    {
     "name": "stdout",
     "output_type": "stream",
     "text": [
      "La llista a es:[0, 1, 2, 3, 4, 5, 6, 7, 8, 9, 10, 11, 12, 13, 14, 15, 16, 17, 18, 19, 20, 21, 22, 23, 24, 25, 26, 27, 28, 29, 30, 31, 32, 33, 34, 35, 36, 37, 38, 39, 40, 41, 42, 43, 44, 45, 46, 47, 48, 49, 50, 51, 52, 53, 54, 55, 56, 57, 58, 59, 60, 61, 62, 63, 64, 65, 66, 67, 68, 69, 70, 71, 72, 73, 74, 75, 76, 77, 78, 79, 80, 81, 82, 83, 84, 85, 86, 87, 88, 89, 90, 91, 92, 93, 94, 95, 96, 97, 98, 99, 100]\n"
     ]
    }
   ],
   "source": [
    "a = [0,  1,  2,  3,  4,  5,  6,  7,  8,  9, 10, 11, 12, 13, 14, 15, 16, 17, 18, 19,\n",
    "    20, 21, 22, 23, 24, 25, 26, 27, 28, 29, 30, 31, 32, 33, 34, 35, 36, 37, 38, 39,\n",
    "    40, 41, 42, 43, 44, 45, 46, 47, 48, 49, 50, 51, 52, 53, 54, 55, 56, 57, 58, 59,\n",
    "    60, 61, 62, 63, 64, 65, 66, 67, 68, 69, 70, 71, 72, 73, 74, 75, 76, 77, 78, 79,\n",
    "    80, 81, 82, 83, 84, 85, 86, 87, 88, 89, 90, 91, 92, 93, 94, 95, 96, 97, 98, 99]\n",
    "\n",
    "print(f'La llista a es: {a}')"
   ],
   "metadata": {
    "collapsed": false
   }
  },
  {
   "cell_type": "markdown",
   "metadata": {
    "colab_type": "text",
    "id": "kizkXfkNANra"
   },
   "source": [
    "### Accediendo a los elementos de una lista\n",
    "\n",
    "Se puede acceder a elementos individuales de una lista especificando su posición, también llamada índice, entre corchetes. Como ya hemos comentado en la parte introductoria del tema la indexación de listas comienza en el índice cero, esto significa que el primer elemento se encuentra en esta posición y el último en la posición $n-1$ donde $n$ es el número de elementos de la lista.\n",
    "\n",
    "Veamos un pequeño ejemplo:"
   ]
  },
  {
   "cell_type": "code",
   "execution_count": 3,
   "metadata": {
    "colab": {
     "base_uri": "https://localhost:8080/",
     "height": 249
    },
    "colab_type": "code",
    "id": "7XUJxvqQ_TD5",
    "outputId": "daefb4dd-d6ba-40e2-a064-1aedc9103dcd"
   },
   "outputs": [
    {
     "name": "stdout",
     "output_type": "stream",
     "text": [
      "foo\n",
      "baz\n"
     ]
    }
   ],
   "source": [
    "ll = [\"foo\", \"bar\", \"baz\", \"qux\", \"quux\", \"corge\"]\n",
    "  \n",
    "# Ahora intentaremos obtener la información guardada en una posición de la lista\n",
    "\n",
    "primera = ll[0]\n",
    "print(primera)\n",
    "\n",
    "tercera = ll[2]\n",
    "print(tercera)"
   ]
  },
  {
   "cell_type": "markdown",
   "metadata": {
    "colab_type": "text",
    "id": "RAcLxhCrBH0o"
   },
   "source": [
    "Para indexar también se pueden utilizar números negativos. El significado de utilizar un número negativo es que la indexación se hace del final de la lista en lugar de su principio. De esta forma tenemos que:\n",
    "\n",
    "```\n",
    "ll[-1] # indexa el último elemento de la lista.\n",
    "```\n",
    "\n",
    "#### Slicing\n",
    "\n",
    "`Python` también permite una sintaxis de indexación avanzada que permite extraer sublistas de una lista. Esta técnica es conocida como _slicing_. Sea `ll` una variable que identifica una lista, una expresión de la forma `ll[inicio:final]` devuelve la porción de `ll` que comienza en la posición `inicio`, y termina en la posición `final-1`. Está en decir, la posición indexada por 'final' no está incluida en esta sub-lista.\n",
    "\n",
    "En resumen, podemos realizar las siguientes selecciones:\n",
    "\n",
    "```\n",
    "a[inicio:final] # elementos de la lista de la posición inicio hasta la posición final-1.\n",
    "a[inicio:] # elementos de la lista de la posición inicio hasta el final de la lista.\n",
    "a[:final] # elementos de la lista de la primera posición hasta la posición final-1.\n",
    "en[:] # seleccionamos toda la lista\n",
    "```\n",
    "\n",
    "Veamos un ejemplo de _slicing_ en código `Python`:"
   ]
  },
  {
   "cell_type": "code",
   "execution_count": 6,
   "metadata": {
    "colab": {
     "base_uri": "https://localhost:8080/",
     "height": 36
    },
    "colab_type": "code",
    "id": "Es9UckJUBNFY",
    "outputId": "1eca6012-fb82-44d3-a3ba-c72eecf7ed63"
   },
   "outputs": [
    {
     "name": "stdout",
     "output_type": "stream",
     "text": [
      "Lista entera: ['foo', 'bar', 'baz', 'qux', 'quux', 'corge']\n",
      "Mi sub-lista:  ['bar', 'baz']\n"
     ]
    }
   ],
   "source": [
    "print(\"Lista entera:\", end=\" \")\n",
    "print(ll)\n",
    "print(\"Mi sub-lista:\", end=\" \")\n",
    "\n",
    "sublista = ll[1:3]\n",
    "print(sublista)"
   ]
  },
  {
   "cell_type": "markdown",
   "metadata": {
    "colab_type": "text",
    "id": "Hk2_oHJDBeyK"
   },
   "source": [
    "A partir del conocimiento básico del _slicing_, podemos realizar selecciones más complejas añadiendo un último parámetro `ll[inicio:final:incremento]`, este parámetro `incremento` indica el incremento de los índices a la hora de realizar la selección. Si no indicamos ningún `incremento` el valor por defecto es 1.\n",
    "Como ocurre con los índices `inicio` y `final`, el parámetro `incremento` también puede ser un número negativo. De esta forma, podremos hacer las siguientes selecciones:\n",
    "\n",
    "```\n",
    "a[::-1] # todos los elementos de la lista en orden inverso\n",
    "a[1::-1] # los primeros dos elementos, en orden inverso\n",
    "a[:-3:-1] # los dos últimos elementos, en orden inverso\n",
    "a[-3::-1] # todos los elementos, excepto los dos últimos en orden inverso\n",
    "```\n",
    "\n",
    "A continuación tiene ejemplos de selección en código `Python`:"
   ]
  },
  {
   "cell_type": "code",
   "execution_count": 9,
   "metadata": {
    "colab": {
     "base_uri": "https://localhost:8080/",
     "height": 73
    },
    "colab_type": "code",
    "id": "F-yfshwCDwao",
    "outputId": "aded1bfb-9532-4a52-cd94-1730dade6522"
   },
   "outputs": [
    {
     "name": "stdout",
     "output_type": "stream",
     "text": [
      "[1, 2, 3, 4, 5]\n",
      "[6, 7, 8, 9, 10]\n",
      "[2, 5, 8]\n",
      "Soluciones\n",
      "[1, 2, 3, 4, 5, 6, 7, 8, 9, 10]\n",
      "Pares: [2, 4, 6, 8, 10]\n",
      "Impares del 3 al 9: [1, 3, 5, 7, 9]\n"
     ]
    }
   ],
   "source": [
    "lista = [1, 2, 3, 4, 5, 6, 7, 8, 9, 10]\n",
    "\n",
    "print(lista[:5]) # Seleccionamos del primero hasta al 5o elemento\n",
    "print(lista[5:]) # Seleccionamos del 5o elemento hasta al 5o final\n",
    "\n",
    "# Se puede especificar cómo es el incremento de los índices\n",
    "\n",
    "print(lista[1::3])\n",
    "\n",
    "print(\"Soluciones\")\n",
    "# ¿Qué que puede dar ll[:]?\n",
    "print(lista[:])\n",
    "\n",
    "# ¿Cómo conseguiremos los elementos pares de la lista?\n",
    "pares = lista[1::2]\n",
    "print(\"Pares: \" + str(pares))\n",
    "\n",
    "# ¿Y los impares del 3 al 9?\n",
    "\n",
    "senars_3_9 = lista[::2]\n",
    "print(f'Impares del 3 al 9: {senars_3_9}')"
   ]
  },
  {
   "cell_type": "markdown",
   "metadata": {},
   "source": [
    "### Mutabilidad\n",
    "\n",
    "Una vez que hemos creado una lista, podemos añadir, eliminar, cambiar y mover elementos a voluntad. Python ofrece una amplia gama de herramientas que nos permiten modificarlas.\n",
    "\n",
    "#### Modificación de un valor\n",
    "\n",
    "Podemos modificar o sustituir un único valor de una lista de forma muy similar a cómo modificamos una\n",
    "variable. En este caso debemos especificar cuál de los valores de la lista queremos modificar. Como podemos suponer, seleccionaremos el elemento mediante su índice."
   ]
  },
  {
   "cell_type": "code",
   "execution_count": 10,
   "metadata": {},
   "outputs": [
    {
     "name": "stdout",
     "output_type": "stream",
     "text": [
      "Lista original \" [1, 2, 3, 4, 5]\n",
      "Lista modificada en la primera posicion [-33, 2, 3, 4, 5]\n",
      "[-33, 2, 3, 4, 55]\n"
     ]
    }
   ],
   "source": [
    "ll = [1, 2, 3, 4, 5]\n",
    "\n",
    "print(f'Lista original \" {ll}')\n",
    "ll[0] = -33\n",
    "\n",
    "print(f'Lista modificada en la primera posicion {ll}')\n",
    "\n",
    "ll[-1] = 55\n",
    "print(ll)"
   ]
  },
  {
   "cell_type": "markdown",
   "metadata": {
    "hideCode": false,
    "hideOutput": false,
    "hidePrompt": false
   },
   "source": [
    "También podemos hacer selecciones de _slices_ de la lista y asignarle múltiples elementos en una sola asignación usando listas del mismo tamaño."
   ]
  },
  {
   "cell_type": "code",
   "execution_count": 43,
   "metadata": {},
   "outputs": [
    {
     "name": "stdout",
     "output_type": "stream",
     "text": [
      "[33, 33, 3, 4, 55]\n"
     ]
    }
   ],
   "source": [
    "ll[0:2] = [33, 33]\n",
    "print(ll)"
   ]
  },
  {
   "cell_type": "markdown",
   "metadata": {},
   "source": [
    "#### Métodos que modifican una lista\n",
    "\n",
    "Las operaciones que tenemos a continuación trabajan de una manera que no habíamos visto hasta ahora sobre ninguna variable de los nuestros programas. Estas operaciones **no son funciones ni subprogramas**, ya que modifican la lista sobre la que están actuando, los conocemos como **métodos**. De momento nos basta con ponerle nombre, pero un poco más adelante en este mismo tema volveremos a hablar de ello.\n",
    "\n",
    "Estos métodos son:\n",
    "\n",
    "* `append`\n",
    "* `extend`\n",
    "* `insert`\n",
    "* `remove`\n",
    "* `pop`\n",
    "\n",
    "\n",
    "**Descripción de los métodos**\n",
    "\n",
    "**Append**: Método que recibe un elemento por parámetro y lo añade al final de la lista\n"
   ]
  },
  {
   "cell_type": "code",
   "execution_count": 11,
   "metadata": {},
   "outputs": [
    {
     "name": "stdout",
     "output_type": "stream",
     "text": [
      "[1, 2, 3]\n"
     ]
    }
   ],
   "source": [
    "a = [1, 2]\n",
    "a.append(3)\n",
    "print(a)\n",
    "a.append(5)"
   ]
  },
  {
   "cell_type": "markdown",
   "metadata": {},
   "source": [
    "**Extend**: Método que recibe una lista y la añade al final de la lista."
   ]
  },
  {
   "cell_type": "code",
   "execution_count": 12,
   "metadata": {
    "colab": {
     "base_uri": "https://localhost:8080/",
     "height": 111
    },
    "colab_type": "code",
    "id": "PtoUjwe_Jb5I",
    "outputId": "fd28984f-f6f4-472d-d4a0-c9fb48606888"
   },
   "outputs": [
    {
     "name": "stdout",
     "output_type": "stream",
     "text": [
      "[1, 2, 3, 5, 5, 6]\n"
     ]
    }
   ],
   "source": [
    "a.extend([5, 6])\n",
    "print(a)\n"
   ]
  },
  {
   "cell_type": "markdown",
   "metadata": {},
   "source": [
    "**Insert**: Método que recibe un entero y un elemento. Añade el elemento a la posición seleccionada de la lista."
   ]
  },
  {
   "cell_type": "code",
   "execution_count": 13,
   "metadata": {},
   "outputs": [
    {
     "name": "stdout",
     "output_type": "stream",
     "text": [
      "[1, 2, 3, 4, 5, 5, 6]\n"
     ]
    }
   ],
   "source": [
    "# Del resultat de la operació extend, veiem que no tenim el nombre 4.\n",
    "# usam la métode insert per afegir-ho\n",
    "a.insert(3, 4)\n",
    "print(a)"
   ]
  },
  {
   "cell_type": "markdown",
   "metadata": {},
   "source": [
    "**Remove**: Método que recibe un elemento por parámetro y lo elimina de la lista. Si el elemento no existe, este método provocará un error en nuestro código."
   ]
  },
  {
   "cell_type": "code",
   "execution_count": 14,
   "metadata": {},
   "outputs": [
    {
     "name": "stdout",
     "output_type": "stream",
     "text": [
      "[2, 3, 4, 5, 5, 6]\n"
     ]
    }
   ],
   "source": [
    "a.remove(1)\n",
    "print(a)"
   ]
  },
  {
   "cell_type": "code",
   "execution_count": 15,
   "metadata": {},
   "outputs": [
    {
     "name": "stdout",
     "output_type": "stream",
     "text": [
      "[1, 2, 3, 4, 5, 6, 7]\n"
     ]
    }
   ],
   "source": [
    "# Observau que passaria si tenc aquesta llista\n",
    "b = [1,2,2,3,4,5,6,7]\n",
    "b.remove(2)\n",
    "print(b)"
   ]
  },
  {
   "cell_type": "code",
   "execution_count": 16,
   "metadata": {},
   "outputs": [
    {
     "ename": "ValueError",
     "evalue": "list.remove(x): x not in list",
     "output_type": "error",
     "traceback": [
      "\u001B[1;31m---------------------------------------------------------------------------\u001B[0m",
      "\u001B[1;31mValueError\u001B[0m                                Traceback (most recent call last)",
      "\u001B[1;32m<ipython-input-16-cde4a9e4ebee>\u001B[0m in \u001B[0;36m<module>\u001B[1;34m\u001B[0m\n\u001B[0;32m      3\u001B[0m \u001B[0mc\u001B[0m \u001B[1;33m=\u001B[0m \u001B[1;33m[\u001B[0m\u001B[1;36m1\u001B[0m\u001B[1;33m,\u001B[0m \u001B[1;36m2\u001B[0m\u001B[1;33m,\u001B[0m \u001B[1;36m3\u001B[0m\u001B[1;33m,\u001B[0m \u001B[1;36m4\u001B[0m\u001B[1;33m,\u001B[0m \u001B[1;36m5\u001B[0m\u001B[1;33m]\u001B[0m\u001B[1;33m\u001B[0m\u001B[1;33m\u001B[0m\u001B[0m\n\u001B[0;32m      4\u001B[0m \u001B[1;33m\u001B[0m\u001B[0m\n\u001B[1;32m----> 5\u001B[1;33m \u001B[0mc\u001B[0m\u001B[1;33m.\u001B[0m\u001B[0mremove\u001B[0m\u001B[1;33m(\u001B[0m\u001B[1;34m'a'\u001B[0m\u001B[1;33m)\u001B[0m\u001B[1;33m\u001B[0m\u001B[1;33m\u001B[0m\u001B[0m\n\u001B[0m\u001B[0;32m      6\u001B[0m \u001B[1;33m\u001B[0m\u001B[0m\n",
      "\u001B[1;31mValueError\u001B[0m: list.remove(x): x not in list"
     ]
    }
   ],
   "source": [
    "# Darrer cas, intentam eliminar un element que no existeix\n",
    "c = [1, 2, 3, 4, 5]\n",
    "c.remove('a')"
   ]
  },
  {
   "cell_type": "markdown",
   "metadata": {},
   "source": [
    "**Pop**: Método que recibe un entero por parámetro y elimina el elemento que está indexado por ese entero. Si no especificamos ningún valor por parámetro, elimina el último elemento. Si el índice del elemento no existe, este método provocará un error en nuestro código."
   ]
  },
  {
   "cell_type": "code",
   "execution_count": 21,
   "metadata": {},
   "outputs": [
    {
     "name": "stdout",
     "output_type": "stream",
     "text": [
      "[3, 4, 5, 5, 6]\n",
      "[3, 4, 5, 5]\n"
     ]
    }
   ],
   "source": [
    "# Tornam a la nostra llista a, anem a usar el metode pop\n",
    "\n",
    "a.pop(0)\n",
    "print(a)\n",
    "a.pop()\n",
    "print(a)"
   ]
  },
  {
   "cell_type": "markdown",
   "metadata": {
    "colab_type": "text",
    "id": "ntjhJQGBJRw1"
   },
   "source": [
    "A continuació teniu més informació de cada un dels mètodes anteriors: [documentació Python](https://docs.python .org/3/tutorial/datastructures.html)\n",
    "\n",
    "\n",
    "#### Operadors i funcions\n",
    "\n",
    "Python ens proveeix de tota una sèrie d'operacions que ens permeten obtenir informació de les llistes, tenim funcions\n",
    "ja programades que ens permetran estalviar molta feina.\n",
    "\n",
    "**Operadors**\n",
    "\n",
    "L'operador `in` i el modificador `not` ens permeten saber si un element és o no és a la nostra llista. Aquests dos\n",
    "mètodes serveixen, per exemple, per saber si un element és a una llista abans d'eliminar-ho."
   ]
  },
  {
   "cell_type": "code",
   "execution_count": 22,
   "metadata": {
    "colab": {
     "base_uri": "https://localhost:8080/",
     "height": 54
    },
    "colab_type": "code",
    "id": "C-OJwy8rJnMz",
    "outputId": "88228980-9ba8-456b-f376-c9dfdda35637"
   },
   "outputs": [
    {
     "name": "stdout",
     "output_type": "stream",
     "text": [
      "True\n",
      "True\n"
     ]
    }
   ],
   "source": [
    "separadors = [' ', ',', ';', '-']\n",
    "\n",
    "x = ',' in separadors\n",
    "\n",
    "print(x)\n",
    "\n",
    "x = 'j' not in separadors\n",
    "\n",
    "print(x)"
   ]
  },
  {
   "cell_type": "markdown",
   "metadata": {},
   "source": [
    "També tenim l'operador de concatenació `+` i el de multiplicació `*`. \n",
    "* `+` Ens permet concatenar vàries llistes, tal com ho fem amb els Strings.\n",
    "* `*` Ens permet repetir diverses vegades una llista, en crea una de nova.\n",
    "\n",
    "Veurem el seu ús mitjançant exemples:"
   ]
  },
  {
   "cell_type": "code",
   "execution_count": 23,
   "metadata": {},
   "outputs": [
    {
     "name": "stdout",
     "output_type": "stream",
     "text": [
      "[0, 0, 0, 0, 0, 0, 0, 0, 0, 0]\n"
     ]
    }
   ],
   "source": [
    "llista_a = [1, 2, 3]\n",
    "llista_b = [4, 5, 6]\n",
    "\n",
    "\n",
    "llista_c = [0] * 10\n",
    "print(llista_c)"
   ]
  },
  {
   "cell_type": "markdown",
   "metadata": {
    "colab_type": "text",
    "id": "e_r5CpjWKLUs"
   },
   "source": [
    "**Funcions sobre llistes**\n",
    "\n",
    "Hi ha tot un seguit de funcions ja definides a Python que ens permeten obtenir informació d'una llista.\n",
    "\n",
    "* `len`: ens retorna un enter amb la longitud de la llista.\n",
    "* `min`: ens retorna el valor més petit de la llista.\n",
    "* `max`: ens retorna el valor més gran de la llista."
   ]
  },
  {
   "cell_type": "code",
   "execution_count": 24,
   "metadata": {},
   "outputs": [
    {
     "name": "stdout",
     "output_type": "stream",
     "text": [
      "6\n",
      "9\n"
     ]
    }
   ],
   "source": [
    "llista = [1,2,3,9,5,6]  # Definicio d'una llista\n",
    "\n",
    "# Provam la funcio longitud\n",
    "longitud = len(llista)\n",
    "\n",
    "print(longitud)\n",
    "\n",
    "# Provam la funcio max\n",
    "valor_maxim = max(llista)\n",
    "\n",
    "print(valor_maxim)"
   ]
  },
  {
   "cell_type": "markdown",
   "metadata": {},
   "source": [
    "#### Llistes com a paràmetres de subprogrames\n",
    "\n",
    "A causa de aquesta mutabilidad, és a dir, la capacitat de ser modificades en temps d'execució, les llistes passades com\n",
    "a paràmetre d'un subprograma tenen un comportament diferent del que tenen les variables que hem emprat fins ara.\n",
    "\n",
    "Si passem una llista com a paràmetre d'un subprograma, sigui un procediment o una funció i hi fem qualsevol\n",
    "modificació, aquesta es veurà reflectida en la variable de l'àmbit extern que ha estat usada en el pas de paràmetre.\n",
    "\n",
    "Anem a veure un exemple:\n"
   ]
  },
  {
   "cell_type": "code",
   "execution_count": 5,
   "outputs": [
    {
     "name": "stdout",
     "output_type": "stream",
     "text": [
      "Llista abans de cridar al mètode afegeix_element:  []\n",
      "Llista despres de cridar al mètode afegeix_element:  [5]\n"
     ]
    }
   ],
   "source": [
    "\"Mètode que rep una llista i un element i afegeix l'element al final de la llista\"\n",
    "def afegeix_element(llista, element):\n",
    "\n",
    "    llista.append(element)\n",
    "\n",
    "ll_mutable = []\n",
    "\n",
    "print(\"Llista abans de cridar al mètode afegeix_element: \", ll_mutable)\n",
    "afegeix_element(ll_mutable, 5)\n",
    "print(\"Llista despres de cridar al mètode afegeix_element: \", ll_mutable)\n",
    "\n"
   ],
   "metadata": {
    "collapsed": false
   }
  },
  {
   "cell_type": "markdown",
   "source": [
    "### Iterant sobre llistes\n",
    "\n",
    "Nosaltres ja coneixem l'operació d'iteració, ara que coneixem l'existència de llistes veurem com podem usar\n",
    "l'operador `for` per recórrer les llistes de manera automàtica. També com ho podem iterar mitjançant l'accés al seu\n",
    "índex:"
   ],
   "metadata": {
    "collapsed": false
   }
  },
  {
   "cell_type": "code",
   "execution_count": 66,
   "metadata": {},
   "outputs": [
    {
     "name": "stdout",
     "output_type": "stream",
     "text": [
      "Arta\n",
      "Sineu\n",
      "Alcudia\n",
      "Mancor\n",
      "Valldemossa\n"
     ]
    }
   ],
   "source": [
    "# Recorrer una llista obtenint cada un dels seus elements\n",
    "llista_pobles = [\"Arta\", \"Sineu\", \"Alcudia\", \"Mancor\", \"Valldemossa\"]\n",
    "\n",
    "for poble in llista_pobles: # el operador for ens torna cada un dels elements de la llista\n",
    "    print(poble)"
   ]
  },
  {
   "cell_type": "code",
   "execution_count": 67,
   "metadata": {},
   "outputs": [
    {
     "name": "stdout",
     "output_type": "stream",
     "text": [
      "0 9\n",
      "1 4.5\n",
      "2 3.0\n",
      "3 7\n",
      "4 6.5\n",
      "5 3\n",
      "[10, 5.5, 4.0, 8, 7.5, 4]\n"
     ]
    }
   ],
   "source": [
    "#Recorrer una llista amb els index per modificar valors\n",
    "\n",
    "notes = [9, 4.5, 3.0, 7, 6.5, 3]\n",
    "longitud = len(notes)\n",
    "\n",
    "for i in range(0, longitud): # recordau que la funció range ens crea una llista\n",
    "    print(i, notes[i])\n",
    "    notes[i] = notes[i] + 1\n",
    "    \n",
    "print(notes)\n",
    "    "
   ]
  },
  {
   "cell_type": "markdown",
   "metadata": {},
   "source": [
    "També podem usar el bucle `while` per operar amb llistes:"
   ]
  },
  {
   "cell_type": "code",
   "execution_count": 68,
   "metadata": {},
   "outputs": [
    {
     "name": "stdout",
     "output_type": "stream",
     "text": [
      "L'element més gran de la llista de notes es: 10\n"
     ]
    }
   ],
   "source": [
    "#Fare una cerca manual del valor mes gran en la llista\n",
    "\n",
    "idx = 0\n",
    "mes_gran = notes[idx] # posicio indexada per 0\n",
    "\n",
    "while idx < len(notes): # mentre no final\n",
    "    # Tractament de l'element actual\n",
    "    if notes[idx] > mes_gran:\n",
    "        mes_gran = notes[idx]\n",
    "        \n",
    "    idx = idx + 1 # Seguent element\n",
    "    \n",
    "# Donar resultats\n",
    "print(\"L'element més gran de la llista de notes es: \" + str(mes_gran))\n"
   ]
  }
 ],
 "metadata": {
  "celltoolbar": "Hide code",
  "colab": {
   "name": "Tema5_llistes.ipynb",
   "provenance": [],
   "version": "0.3.2"
  },
  "kernelspec": {
   "display_name": "Python 3",
   "language": "python",
   "name": "python3"
  },
  "language_info": {
   "codemirror_mode": {
    "name": "ipython",
    "version": 3
   },
   "file_extension": ".py",
   "mimetype": "text/x-python",
   "name": "python",
   "nbconvert_exporter": "python",
   "pygments_lexer": "ipython3",
   "version": "3.7.4"
  }
 },
 "nbformat": 4,
 "nbformat_minor": 1
}
