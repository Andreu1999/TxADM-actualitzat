{
 "cells": [
  {
   "cell_type": "markdown",
   "source": [
    "## Estructuras de datos y control de flujo\n",
    "\n",
    "### Condicional\n",
    "\n",
    "En el mundo real, existen muchas situaciones en los que se debe evaluar la información disponible y a continuación elegir entre varias opciones basándonos en lo que hemos observado. Este tipo de patrones no son reproducibles con el esquema de composición secuencial y, por tanto, introduciremos el esquema de composición condicional.\n",
    "\n",
    "Este esquema responde a estructuras del siguiente tipo:\n",
    "```\n",
    "si llueve\n",
    "   entonces añado el paraguas\n",
    "sino\n",
    "   entonces cojo el gorro\n",
    "```\n",
    "\n",
    "En un programa de `Python`, la instrucción `if` sirve para tomar este tipo de decisiones. Permite la ejecución condicional de una declaración o grupo de afirmaciones basada en el valor de una expresión. Su estructura es la siguiente:\n",
    "```\n",
    "if <expr>:\n",
    "    <cuerpo>\n",
    "```\n",
    "\n",
    "En el código que se muestra arriba `<expr>` es una expresión evaluada en un contexto booleano y `<cuerpo>` es una o un conjunto de expresiones de `Python` válida\\es, además fíjate que **debe estar tabulada**.\n",
    "\n",
    "En el siguiente ejemplo utilizamos la composición condicional para obtener el valor absoluto de un número:"
   ],
   "metadata": {
    "collapsed": false
   }
  },
  {
   "cell_type": "code",
   "execution_count": 3,
   "outputs": [
    {
     "name": "stdout",
     "output_type": "stream",
     "text": [
      "Estamos fuera del bloque condicional\n",
      "El valor absoluto es: 12\n"
     ]
    }
   ],
   "source": [
    "# Programa que calcula el valor absoluto de un numero\n",
    "x = 12\n",
    "\n",
    "#Bloque condicional\n",
    "if x < 0:\n",
    "    print(\"Entramos en el bloque condicional\")\n",
    "    x = x * -1  # x*= -1 o també x = -x\n",
    "\n",
    "print(\"Estamos fuera del bloque condicional\")\n",
    "# Resultados\n",
    "print(f'El valor absoluto es: {x}')"
   ],
   "metadata": {
    "collapsed": false
   }
  },
  {
   "cell_type": "markdown",
   "source": [
    "#### Las cláusulas `else` y `elif`\n",
    "\n",
    "Ahora que sabemos cómo utilizar una instrucción `if` para ejecutar condicionalmente una sola instrucción o un bloque de varias expresiones es hora de averiguar qué más podemos hacer.\n",
    "\n",
    "Hay problemas en los que queremos evaluar una condición y tomar una ruta si es cierta, pero también poder seguir una ruta alternativa si esta no lo es. Esto se logra con una cláusula `les`. Por ejemplo si queremos hacer un programa que nos diga si un número es positivo o negativo podemos hacerlo de la siguiente manera:"
   ],
   "metadata": {
    "collapsed": false
   }
  },
  {
   "cell_type": "code",
   "execution_count": null,
   "outputs": [],
   "source": [
    "x = -1\n",
    "\n",
    "if x > 0:\n",
    "    print(\"Evaluamos el número\")  # Un bloque con dos sentencias de código\n",
    "    print(\"El número es positivo\")\n",
    "else:\n",
    "    print(\"El número es negativo\")"
   ],
   "metadata": {
    "collapsed": false
   }
  },
  {
   "cell_type": "markdown",
   "source": [
    "Realmente el código de sobre no hace del todo bien su trabajo, ya que cuando `x` toma el valor 0, el programa no contempla ningún caso. Para poder completar y corregir nuestro programa necesitamos evaluar una condición más, lo podemos hacer con la palabra reservada `elif`."
   ],
   "metadata": {
    "collapsed": false
   }
  },
  {
   "cell_type": "code",
   "execution_count": 2,
   "outputs": [
    {
     "name": "stdout",
     "output_type": "stream",
     "text": [
      "El número es cero\n",
      "Hasta la próxima vez\n"
     ]
    }
   ],
   "source": [
    "x = 0\n",
    "\n",
    "if x > 0:\n",
    "     print(\"Evaluamos el número\") # Un blog con dos sentencias de código.\n",
    "     print(\"El número es positivo\")\n",
    "\n",
    "elif x == 0: # Aquí contemplamos que el número pueda ser 0\n",
    "\n",
    "     print(\"El número es cero\")\n",
    "\n",
    "else:\n",
    "# Aquí no necesitamos una nueva condición, si el número no es positivo\n",
    "# ni cero, seguro que es negativo\n",
    "\n",
    "     print(\"El número es negativo\")\n",
    "\n",
    "print(\"Hasta la próxima vez\")"
   ],
   "metadata": {
    "collapsed": false
   }
  },
  {
   "cell_type": "markdown",
   "source": [
    "Por lo general podemos hacer tantas condiciones como queramos o necesitamos:\n",
    "```\n",
    "if <expr>:\n",
    "    <cos(+)>\n",
    "elif <expr>:\n",
    "    <cos(+)>\n",
    "elif <expr>:\n",
    "    <cos(+)>\n",
    "    ...\n",
    "else:\n",
    "    <cos(+)>\n",
    "```"
   ],
   "metadata": {
    "collapsed": false
   }
  },
  {
   "cell_type": "markdown",
   "source": [
    "### Listas"
   ],
   "metadata": {
    "collapsed": false
   }
  }
 ],
 "metadata": {
  "kernelspec": {
   "display_name": "Python 3",
   "language": "python",
   "name": "python3"
  },
  "language_info": {
   "codemirror_mode": {
    "name": "ipython",
    "version": 2
   },
   "file_extension": ".py",
   "mimetype": "text/x-python",
   "name": "python",
   "nbconvert_exporter": "python",
   "pygments_lexer": "ipython2",
   "version": "2.7.6"
  }
 },
 "nbformat": 4,
 "nbformat_minor": 0
}
