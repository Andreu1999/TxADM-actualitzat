{
 "cells": [
  {
   "cell_type": "markdown",
   "metadata": {},
   "source": [
    "# CRON y RONTAB\n",
    "\n",
    "\"\n",
    "En el sistema operativo Unix, cron es un administrador regular de procesos en segundo plano (demonio) que ejecuta procesos o guiones a intervalos regulares (por ejemplo, cada minuto, día, semana o mes). Los procesos que deben ejecutarse y la hora a la que deben hacerlo se especifican en el archivo crontab. El nombre cron proviene del griego chronos (χρόνος) que significa \"tiempo\".\n",
    "\n",
    "Cron se puede definir como el equivalente a Tareas Programadas de Windows.\n",
    "\" Fuente Wikipedia: https://es.wikipedia.org/wiki/Cron_(Unix)\n",
    "\n",
    "\n",
    "Otros sistemas operativos:\n",
    "- Virtualización <!-\n",
    "- Containers : Cloud Computing\n",
    "\n",
    "Herramientas de virtualización:\n",
    "- VirtualBox: https://www.virtualbox.org/\n",
    "- https://multipass.run/install\n",
    "- VMware\n",
    "\n",
    "Recurso explicativos:\n",
    "- https://blog.desdelinux.net/cron-crontab-explicados/\n",
    "- https://www.redeszone.net/tutoriales/servidores/cron-crontab-linux-programar-tareas/\n",
    "- https://docs.oracle.com/cd/E38897_01/html/E23086/sysrescron-1.html\n",
    "  \n",
    "Alternativa en Windows:\n",
    "- https://active-directory-wp.com/docs/Usage/How_to_add_a_cron_job_on_Windows/Scheduled_tasks_and_cron_jobs_on_Windows/\n"
   ]
  },
  {
   "cell_type": "markdown",
   "metadata": {},
   "source": [
    "\n"
   ]
  }
 ],
 "metadata": {
  "language_info": {
   "name": "python"
  },
  "orig_nbformat": 4
 },
 "nbformat": 4,
 "nbformat_minor": 2
}
